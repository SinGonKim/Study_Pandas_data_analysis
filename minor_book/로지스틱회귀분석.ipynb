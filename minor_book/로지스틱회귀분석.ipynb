{
 "cells": [
  {
   "cell_type": "markdown",
   "id": "8f64d787",
   "metadata": {},
   "source": [
    "# 로지스틱회귀분석 목표\n",
    "- 이진 및 다중 클래스 문제에 대한 분류 문제의 공식 및 수학적 정의\n",
    "- 클래시파이어의 성능을 평가하는 방법,\n",
    "- 로지스틱회귀 저변에 깔려 있는 수학\n",
    "- 로지스틱회귀를 위해 특별히 구축된 SGD 공식 재검토\n",
    "- 다중 클래스 로지스틱회귀를 사용한 다중 클래스 사례"
   ]
  },
  {
   "cell_type": "markdown",
   "id": "90f28450",
   "metadata": {},
   "source": [
    "회귀 문제의 아웃풋에 임계값을 부여하는 것은 실제로 그 값이 고정된 임계값보다 큰지 작은지를 결정하는 이진분류문제이다."
   ]
  },
  {
   "cell_type": "code",
   "execution_count": 1,
   "id": "1cfdea59",
   "metadata": {},
   "outputs": [
    {
     "data": {
      "image/png": "[encoded data removed]",
      "text/plain": [
       "<Figure size 432x288 with 1 Axes>"
      ]
     },
     "metadata": {
      "needs_background": "light"
     },
     "output_type": "display_data"
    }
   ],
   "source": [
    "%matplotlib inline\n",
    "import matplotlib.pyplot as plt\n",
    "from sklearn.datasets import make_classification\n",
    "X,y = make_classification(n_samples=100, n_features = 2,\n",
    "                         n_informative=2, n_redundant = 0,\n",
    "                         n_clusters_per_class = 1,\n",
    "                         class_sep = 2.0, random_state=101)\n",
    "plt.scatter(X[:, 0], X[:, 1], marker='o', c=y,\n",
    "           linewidth = 0, edgecolor = None)\n",
    "plt.xlabel('Feature 1')\n",
    "plt.ylabel('Feature 2')\n",
    "plt.show()"
   ]
  },
  {
   "cell_type": "code",
   "execution_count": 2,
   "id": "56bb0e05",
   "metadata": {},
   "outputs": [],
   "source": [
    "y_orig = [0, 0, 0, 0, 0, 0, 1, 1, 1, 1]\n",
    "y_pred = [0, 0, 0, 0, 1, 1, 1, 1, 1, 0]"
   ]
  },
  {
   "cell_type": "code",
   "execution_count": 3,
   "id": "db5cf692",
   "metadata": {},
   "outputs": [
    {
     "data": {
      "text/plain": [
       "array([[4, 2],\n",
       "       [1, 3]], dtype=int64)"
      ]
     },
     "execution_count": 3,
     "metadata": {},
     "output_type": "execute_result"
    }
   ],
   "source": [
    "from sklearn.metrics import confusion_matrix\n",
    "confusion_matrix(y_orig, y_pred)"
   ]
  },
  {
   "cell_type": "markdown",
   "id": "5fd70bb6",
   "metadata": {},
   "source": [
    "이 행렬을 통해 몇 가지 증거를 추출할 수 있다.\\\n",
    "- 샘플의 수는 10개이다.(전체 행렬의 합계)\n",
    "- 원본에서 0으로 분류된 샘플의 수는 6개고, 1로 분류된 수는 4개다(행의 합계). 이 숫자를 서포트(Support)라고 명명한다.\n",
    "- 예측된 데이터 세트에서 0으로 분류된 샘플의 수는 5개이고, 1로 분류된 수는 5개이다.(열의 합계)\n",
    "- 올바른 부류는 7개다(대각선의 합)\n",
    "- 분류 오류는 3개이다.(대각선에 있지 않은 모든 숫자의 합)\n",
    "\n",
    "모든 숫자는 대각선에 있고, 대각선이 아닌 곳에서 0이 있으면 완벽한 분류의 예제다."
   ]
  },
  {
   "cell_type": "code",
   "execution_count": 4,
   "id": "aa47963a",
   "metadata": {},
   "outputs": [
    {
     "data": {
      "image/png": "[encoded data removed]",
      "text/plain": [
       "<Figure size 288x288 with 2 Axes>"
      ]
     },
     "metadata": {
      "needs_background": "light"
     },
     "output_type": "display_data"
    }
   ],
   "source": [
    "plt.matshow(confusion_matrix(y_orig, y_pred))\n",
    "plt.title('Confusion matrix')\n",
    "plt.colorbar()\n",
    "plt.ylabel('True label')\n",
    "plt.xlabel('Predicted label')\n",
    "plt.show()"
   ]
  },
  {
   "cell_type": "markdown",
   "id": "f11fac94",
   "metadata": {},
   "source": [
    "Classifier 성능을 평가하기 위해 첫 번째 측정 기준은 정확도(accuracy)이다.\\\n",
    "정확도는 총 샘플 개수에 대한 정확한 분류의 백분율이다.\\\n",
    "대각선상의 합계를 행렬 요소의 합계로 나눔으로써 오류 측정값을 혼돈 행렬로부터 직접 얻을 수 있다.\\\n",
    "앞의 예제의 정확도는 0.7이다."
   ]
  },
  {
   "cell_type": "code",
   "execution_count": 5,
   "id": "3c497f2a",
   "metadata": {},
   "outputs": [
    {
     "data": {
      "text/plain": [
       "0.7"
      ]
     },
     "execution_count": 5,
     "metadata": {},
     "output_type": "execute_result"
    }
   ],
   "source": [
    "from sklearn.metrics import accuracy_score\n",
    "accuracy_score(y_orig, y_pred)"
   ]
  },
  {
   "cell_type": "markdown",
   "id": "a27fe816",
   "metadata": {},
   "source": [
    "두 번째 측정 기준은 정밀도(precision)이다. 하나의 라벨만 고려하며, 해당 라벨에 대해 정확한 분류의 백분율을 계산한다.\\\n",
    "라벨 \"1\"을 고려할 때, 정밀도는 혼돈 행렬에서 오른쪽 하단에 있는 숫자를 두 번째 열에 있는 요소의 합으로 나눈 값이다. 즉 3/5 = 0.6이다.\\\n",
    "Scikit-learn에서 이 함수는 검사 대상 클래스만 참으로 표시되는 이진 입력을 요구한다.(이것을 클래스 표시기 class indicator 라고 한다.)\\\n",
    "각 라벨에 대해 정밀도 점수를 추출하려면 각 클래스를 이진 벡터로 만들어야 한다."
   ]
  },
  {
   "cell_type": "code",
   "execution_count": 6,
   "id": "1277aa3f",
   "metadata": {},
   "outputs": [
    {
     "data": {
      "text/plain": [
       "0.6"
      ]
     },
     "execution_count": 6,
     "metadata": {},
     "output_type": "execute_result"
    }
   ],
   "source": [
    "from sklearn.metrics import precision_score\n",
    "precision_score(y_orig, y_pred)"
   ]
  },
  {
   "cell_type": "markdown",
   "id": "1ed8282f",
   "metadata": {},
   "source": [
    "정밀도와 다른 오류 측정 방법으로 재현율(recall)이 존재한다. 정밀도가 얻은 것의 질(라벨 \"1\"로 표시된 결과의 품질)에 관한 것이라면, 재현율은 얻을 수 있었던 것의 질(제대로 추출 할 수 있는 \"1\"의 인스턴스가 얼마나 많이 있었는지에 대한 품질)에 관한 것이다. 또한 이 측정 방법은 클래스 기반이며 클래스 \"1\"에 대한 재현율 점수를 계산하기 위해 혼돈 행렬에서 오른쪽 하단의 숫자를 두 번째 행의 합계로 나눠야 한다. 즉 3/4 = 0.75이다. 재현율은 0과 1 사이로 제한되며, 최상의 점수는 1이고 원본 데이터셋에서 \"1\"이 제대로 분류되지 않았음을 의미한다."
   ]
  },
  {
   "cell_type": "code",
   "execution_count": 7,
   "id": "ff63a321",
   "metadata": {},
   "outputs": [
    {
     "data": {
      "text/plain": [
       "0.75"
      ]
     },
     "execution_count": 7,
     "metadata": {},
     "output_type": "execute_result"
    }
   ],
   "source": [
    "from sklearn.metrics import recall_score\n",
    "recall_score(y_orig, y_pred)"
   ]
  },
  {
   "cell_type": "markdown",
   "id": "f43535f3",
   "metadata": {},
   "source": [
    "정밀도와 재현율은 클래시파이어가 클래스에 얼마나 잘 수행했는지를 나타내는 두 가지 지표다. 조화 평균(harmonic average)을 사용해 두 개의 점수를 합하면 포괄적인 f1-점수를 얻을 수 있으므로 두 오류 측정의 성능을 한눈에 파악할 수 있다."
   ]
  },
  {
   "cell_type": "code",
   "execution_count": 8,
   "id": "c7b1a6f2",
   "metadata": {},
   "outputs": [
    {
     "data": {
      "text/plain": [
       "0.6666666666666665"
      ]
     },
     "execution_count": 8,
     "metadata": {},
     "output_type": "execute_result"
    }
   ],
   "source": [
    "from sklearn.metrics import f1_score\n",
    "f1_score(y_orig, y_pred)"
   ]
  },
  {
   "cell_type": "code",
   "execution_count": 9,
   "id": "755b54a5",
   "metadata": {},
   "outputs": [
    {
     "name": "stdout",
     "output_type": "stream",
     "text": [
      "              precision    recall  f1-score   support\n",
      "\n",
      "           0       0.80      0.67      0.73         6\n",
      "           1       0.60      0.75      0.67         4\n",
      "\n",
      "    accuracy                           0.70        10\n",
      "   macro avg       0.70      0.71      0.70        10\n",
      "weighted avg       0.72      0.70      0.70        10\n",
      "\n"
     ]
    }
   ],
   "source": [
    "from sklearn.metrics import classification_report\n",
    "print(classification_report(y_orig, y_pred))"
   ]
  },
  {
   "cell_type": "markdown",
   "id": "df241332",
   "metadata": {},
   "source": [
    "## 확률 기반 접근법 정의\n",
    "이진 분류 문제에서, 아웃풋은 0 똔는 1이 될 수 있다. 클래스 \"1\"에 속하는 라벨의 확률을 확인하면 어떨까?\\\n",
    "구체적으로 특성 벡터가 주어지면 조건부 확률을 최대화하는 클래스를 찾는다.\n",
    "P(y=\"1\"|x) \\\n",
    "\n",
    "확률론적 해석을 사용해 더미 분류 문제에 다중 선형 리그레서를 적용해보려한다.\\\n",
    "데이터셋을 훈련 집합과 테스트집합을 분리하고 y벡터를 부동 소수점 값으로 변환한다."
   ]
  },
  {
   "cell_type": "code",
   "execution_count": 10,
   "id": "47c31dbc",
   "metadata": {},
   "outputs": [
    {
     "ename": "ModuleNotFoundError",
     "evalue": "No module named 'sklearn.cross_validation'",
     "output_type": "error",
     "traceback": [
      "\u001b[1;31m---------------------------------------------------------------------------\u001b[0m",
      "\u001b[1;31mModuleNotFoundError\u001b[0m                       Traceback (most recent call last)",
      "\u001b[1;32m<ipython-input-10-98cdf148046a>\u001b[0m in \u001b[0;36m<module>\u001b[1;34m\u001b[0m\n\u001b[1;32m----> 1\u001b[1;33m \u001b[1;32mfrom\u001b[0m \u001b[0msklearn\u001b[0m\u001b[1;33m.\u001b[0m\u001b[0mcross_validation\u001b[0m \u001b[1;32mimport\u001b[0m \u001b[0mtrain_test_split\u001b[0m\u001b[1;33m\u001b[0m\u001b[1;33m\u001b[0m\u001b[0m\n\u001b[0m\u001b[0;32m      2\u001b[0m \u001b[0mX_train\u001b[0m\u001b[1;33m,\u001b[0m \u001b[0mX_test\u001b[0m\u001b[1;33m,\u001b[0m \u001b[0my_train\u001b[0m\u001b[1;33m,\u001b[0m\u001b[0;31m \u001b[0m\u001b[0;31m\\\u001b[0m\u001b[1;33m\u001b[0m\u001b[1;33m\u001b[0m\u001b[0m\n\u001b[0;32m      3\u001b[0m y_test= train_test_split(X,y.astype(float),\\\n\u001b[0;32m      4\u001b[0m                          test_size = 0.33, random_state=101)\n",
      "\u001b[1;31mModuleNotFoundError\u001b[0m: No module named 'sklearn.cross_validation'"
     ]
    }
   ],
   "source": [
    "from sklearn.cross_validation import train_test_split\n",
    "X_train, X_test, y_train, \\\n",
    "y_test= train_test_split(X,y.astype(float),\\\n",
    "                         test_size = 0.33, random_state=101)"
   ]
  },
  {
   "cell_type": "code",
   "execution_count": 12,
   "id": "197b8cd5",
   "metadata": {},
   "outputs": [
    {
     "ename": "NameError",
     "evalue": "name 'y_test' is not defined",
     "output_type": "error",
     "traceback": [
      "\u001b[1;31m---------------------------------------------------------------------------\u001b[0m",
      "\u001b[1;31mNameError\u001b[0m                                 Traceback (most recent call last)",
      "\u001b[1;32m<ipython-input-12-d8dc54734212>\u001b[0m in \u001b[0;36m<module>\u001b[1;34m\u001b[0m\n\u001b[1;32m----> 1\u001b[1;33m \u001b[0my_test\u001b[0m\u001b[1;33m.\u001b[0m\u001b[0mdtype\u001b[0m\u001b[1;33m\u001b[0m\u001b[1;33m\u001b[0m\u001b[0m\n\u001b[0m",
      "\u001b[1;31mNameError\u001b[0m: name 'y_test' is not defined"
     ]
    }
   ],
   "source": [
    "y_test.dtype"
   ]
  },
  {
   "cell_type": "code",
   "execution_count": null,
   "id": "a42d6fd5",
   "metadata": {},
   "outputs": [],
   "source": []
  }
 ],
 "metadata": {
  "kernelspec": {
   "display_name": "Python 3",
   "language": "python",
   "name": "python3"
  },
  "language_info": {
   "codemirror_mode": {
    "name": "ipython",
    "version": 3
   },
   "file_extension": ".py",
   "mimetype": "text/x-python",
   "name": "python",
   "nbconvert_exporter": "python",
   "pygments_lexer": "ipython3",
   "version": "3.8.8"
  }
 },
 "nbformat": 4,
 "nbformat_minor": 5
}
