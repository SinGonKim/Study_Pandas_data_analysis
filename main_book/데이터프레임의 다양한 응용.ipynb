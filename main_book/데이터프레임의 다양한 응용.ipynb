{
 "cells": [
  {
   "cell_type": "markdown",
   "id": "24d07fdd",
   "metadata": {},
   "source": [
    "# 함수 매핑\n",
    "데이터프레임에 함수를 매핑하는 방법, 데이터를 집계하는 그룹 연산, 데이터프레임을 합치거나 다양한 형태로 구조를 변경하는 방법 등에 관해 차례대로 살펴보자.  \n",
    "함수 매핑은 시리즈 또는 데이터프레임의 개별 원소를 특정 함수에 일대일 대응시키는 과정을 뜻한다. 사용자가 직접 만든 함수(lambda 함수 포함)를 적용할 수 있기 때문에 판다스 기본함수로 처리하기 어려운 복잡한 연산을 데이터프레임 등 판다스 객체에 적용하는 것이 가능하다."
   ]
  },
  {
   "cell_type": "markdown",
   "id": "c4737a1e",
   "metadata": {},
   "source": [
    "## 개별 원소에 함수 매핑\n",
    "\n",
    "### 시리즈 원소에 함수 매핑\n",
    "\n",
    "시리즈 객체에 apply() 메소드를 적용하면 인자로 전달하는 매핑 함수에 시리즈의 모든 원소를 하나씩 입력하고 함수의 리턴값을 돌려받는다. 시리즈 원소의 개수만큼 리턴값을 받아서 같은 크기의 시리즈 객체로 반환한다.\n",
    "- 시리즈 원소에 함수 매핑: Series객체.apply(매핑함수)"
   ]
  },
  {
   "cell_type": "code",
   "execution_count": 1,
   "id": "c9ac2366",
   "metadata": {},
   "outputs": [
    {
     "name": "stdout",
     "output_type": "stream",
     "text": [
      "    age     fare  ten\n",
      "0  22.0   7.2500   10\n",
      "1  38.0  71.2833   10\n",
      "2  26.0   7.9250   10\n",
      "3  35.0  53.1000   10\n",
      "4  35.0   8.0500   10\n"
     ]
    }
   ],
   "source": [
    "import seaborn as sns\n",
    "\n",
    "# titanic 데이터셋에서 age, fare 2개의 열을 선택하여 데이터프레임 만들기\n",
    "titanic = sns.load_dataset('titanic')\n",
    "df = titanic.loc[:, ['age', 'fare']]\n",
    "df['ten'] = 10\n",
    "print(df.head())"
   ]
  },
  {
   "cell_type": "code",
   "execution_count": 2,
   "id": "14e30d1c",
   "metadata": {},
   "outputs": [
    {
     "name": "stdout",
     "output_type": "stream",
     "text": [
      "20\n",
      "20\n"
     ]
    }
   ],
   "source": [
    "# 사용자 함수 정의\n",
    "def add_10(n):\n",
    "    return n+10 #10을 더하는 함수\n",
    "\n",
    "def add_two_obj(a, b):\n",
    "    return a+b\n",
    "print(add_10(10))\n",
    "print(add_two_obj(10, 10))"
   ]
  },
  {
   "cell_type": "markdown",
   "id": "c8c6e285",
   "metadata": {},
   "source": [
    "apply() 메소드를 이용하여 df['age'] 열에 add_10 함수를 매핑하면 모든 원소에 숫자 10을 더한다. 이 결과를 변수 sr1에 저장한다.  \n",
    "다음으로 add_two_obj 함수를 df['age'] 열에 매핑하면 함께 전달된 숫자 10을 모든 원소에 더하는데 결과를 변수 sr2에 저장한다.  \n",
    "마지막으로 lambda 함수를 df['age'] 열에 매핑하여 add_10 함수의 리턴값을 sr3에 저장한다.  \n",
    "3가지 케이스 모두 `age` 열의 각 원소에 10을 더한 값을 가진 같은 크기의 시리즈가 된다.  \n",
    "또한 `age` 열의 이름이 시리즈 객체의 이름으로 유지되는 것을 확인 할 수 있다."
   ]
  },
  {
   "cell_type": "code",
   "execution_count": 4,
   "id": "cd130f50",
   "metadata": {},
   "outputs": [
    {
     "name": "stdout",
     "output_type": "stream",
     "text": [
      "0    32.0\n",
      "1    48.0\n",
      "2    36.0\n",
      "3    45.0\n",
      "4    45.0\n",
      "Name: age, dtype: float64\n",
      "\n",
      "\n",
      "0    32.0\n",
      "1    48.0\n",
      "2    36.0\n",
      "3    45.0\n",
      "4    45.0\n",
      "Name: age, dtype: float64\n",
      "\n",
      "\n",
      "0    32.0\n",
      "1    48.0\n",
      "2    36.0\n",
      "3    45.0\n",
      "4    45.0\n",
      "Name: age, dtype: float64\n"
     ]
    }
   ],
   "source": [
    "sr1 = df['age'].apply(add_10)\n",
    "print(sr1.head())\n",
    "print('\\n')\n",
    "\n",
    "# 시리즈 객체와 숫자에 적용: 2개의 인수 (시리즈+숫자)\n",
    "sr2 = df['age'].apply(add_two_obj, b=10)\n",
    "print(sr2.head())\n",
    "print('\\n')\n",
    "\n",
    "# lambda 함수 활용: 시리즈 객체에 적용\n",
    "sr3 = df['age'].apply(lambda x: add_10(x)) # x=df['age']\n",
    "print(sr3.head())"
   ]
  },
  {
   "cell_type": "markdown",
   "id": "28715ac9",
   "metadata": {},
   "source": [
    "### 데이터프레임 원소에 함수 매핑\n",
    "데이터프레임의 개별 원소에 특정 함수를 매핑하려면, applymap() 메소드를 활용한다. 매핑 함수에 데이터프레임의 각 원소를 하나씩 넣어서 리턴값으로 돌려받는다. 원소의 원래 위치에 매핑 함수의 리턴값을 입력하여 동일한 형태의 데이터프레임이 만들어지낟.  \n",
    "- 데이터프레임의 원소에 함수 매핑: DataFrame 객체.applymap(매핑함수)"
   ]
  },
  {
   "cell_type": "code",
   "execution_count": 5,
   "id": "a2b07525",
   "metadata": {},
   "outputs": [
    {
     "name": "stdout",
     "output_type": "stream",
     "text": [
      "    age     fare\n",
      "0  22.0   7.2500\n",
      "1  38.0  71.2833\n",
      "2  26.0   7.9250\n",
      "3  35.0  53.1000\n",
      "4  35.0   8.0500\n",
      "\n",
      "\n",
      "    age     fare\n",
      "0  32.0  17.2500\n",
      "1  48.0  81.2833\n",
      "2  36.0  17.9250\n",
      "3  45.0  63.1000\n",
      "4  45.0  18.0500\n"
     ]
    }
   ],
   "source": [
    "import seaborn as sns\n",
    "\n",
    "# titanic 데이터셋에서 age, fare 2개의 열을 선택하여 데이터프레임 만들기\n",
    "titanic = sns.load_dataset('titanic')\n",
    "df = titanic.loc[:, ['age', 'fare']]\n",
    "print(df.head())\n",
    "print('\\n')\n",
    "\n",
    "# 사용자 함수 정의\n",
    "def add_10(n):\n",
    "    return n+10\n",
    "\n",
    "# 데이터프레임에 add_10() 함수를 매핑 적용\n",
    "df_map = df.applymap(add_10)\n",
    "print(df_map.head())"
   ]
  },
  {
   "cell_type": "markdown",
   "id": "fb69883a",
   "metadata": {},
   "source": [
    "## 시리즈 객체에 함수 매핑\n",
    "### 데이터프레임의 각 열에 함수 매핑\n",
    "데이터프레임에 apply(axis=0) 메소드를 적용하면 모든 열을 하나씩 분리하여 매핑 함수의 인자로 각 열(시리즈)이 전달된다. 매핑 함수에 따라 반환되는 객체의 종류가 다르다.\n",
    "- 데이터프레임의 열에 함수 매핑: DataFrame 객체.apply(매핑함수, axis = 0)\n",
    "시리즈를 입력받고 시리즈를 반환하는 함수를 매핑하면, 데이터프레임을 반환한다. 예제에서는 시리즈를 입력받아서 시리즈를 반환하는 missing_value(series) 함수를 정의하여 사용한다.  \n",
    "데이터프레임의 열을 매핑 함수에 전달하여 각 열의 리턴값은 시리즈 형태로 반환된다. 그리고 이들 시리즈가 하나의 데이터프레임으로 통합되는 과정을 거친다.  \n",
    "참고로 missing_value(series) 함수를 정의할 때 활용한 isnull() 메소드는 시리즈 객체에서 누락 데이터를 찾고 그 결과를 불린 시리즈 형태로 반환하는 함수이다."
   ]
  },
  {
   "cell_type": "code",
   "execution_count": 6,
   "id": "3597f26c",
   "metadata": {},
   "outputs": [
    {
     "name": "stdout",
     "output_type": "stream",
     "text": [
      "    age     fare\n",
      "0  22.0   7.2500\n",
      "1  38.0  71.2833\n",
      "2  26.0   7.9250\n",
      "3  35.0  53.1000\n",
      "4  35.0   8.0500\n",
      "\n",
      "\n",
      "     age   fare\n",
      "0  False  False\n",
      "1  False  False\n",
      "2  False  False\n",
      "3  False  False\n",
      "4  False  False\n",
      "\n",
      "\n",
      "<class 'pandas.core.frame.DataFrame'>\n"
     ]
    }
   ],
   "source": [
    "# 라이브러리 불러오기\n",
    "import seaborn as sns\n",
    "\n",
    "# titanic 데이터셋에서 age, fare 2개 열을 선택하여 데이터프레임 만들기\n",
    "titanic = sns.load_dataset('titanic')\n",
    "df  = titanic.loc[:, ['age', 'fare']]\n",
    "print(df.head())\n",
    "print('\\n')\n",
    "\n",
    "# 사용자 함수 정의\n",
    "def missing_value(series):\n",
    "    return series.isnull()\n",
    "\n",
    "# 데이터프레임에 apply 메소드를 적용\n",
    "result = df.apply(missing_value, axis=0)\n",
    "print(result.head())\n",
    "print('\\n')\n",
    "print(type(result))"
   ]
  },
  {
   "cell_type": "markdown",
   "id": "bf658f67",
   "metadata": {},
   "source": [
    "### 데이터프레임의 각 행에 함수 매핑\n",
    "데이터프레임 객체에 apply(axis=1) 메소드를 적용하면 데이터프레임의 각 행을 매핑 함수의 인자로 전달한다.  \n",
    "데이터프레임의 행 인덱스가 매핑 결과로 반환되는 시리즈의 인덱스가 된다.  \n",
    "시리즈의 인덱스에 매칭되는 데이터 값에는 각 행의 데이터를 함수에 적용한 리턴값을 가져온다.  \n",
    "데이터프레임의 행에 함수 매핑: DataFrame 객체.apply(매핑함수, axis=1)"
   ]
  },
  {
   "cell_type": "code",
   "execution_count": 7,
   "id": "55510c2b",
   "metadata": {},
   "outputs": [
    {
     "name": "stdout",
     "output_type": "stream",
     "text": [
      "    age     fare  ten\n",
      "0  22.0   7.2500   10\n",
      "1  38.0  71.2833   10\n",
      "2  26.0   7.9250   10\n",
      "3  35.0  53.1000   10\n",
      "4  35.0   8.0500   10\n",
      "\n",
      "\n",
      "    age     fare  ten   add\n",
      "0  22.0   7.2500   10  32.0\n",
      "1  38.0  71.2833   10  48.0\n",
      "2  26.0   7.9250   10  36.0\n",
      "3  35.0  53.1000   10  45.0\n",
      "4  35.0   8.0500   10  45.0\n"
     ]
    }
   ],
   "source": [
    "import seaborn as sns\n",
    "\n",
    "# titanic 데이터셋에서 age, fare 2개 열을 선택하여 데이터프레임 만들기\n",
    "titanic =sns.load_dataset('titanic')\n",
    "df = titanic.loc[:, ['age', 'fare']]\n",
    "df['ten'] = 10\n",
    "print(df.head())\n",
    "print('\\n')\n",
    "\n",
    "# 사용자 함수 정의\n",
    "def add_two_obj(a, b):\n",
    "    return a + b\n",
    "\n",
    "# 데이터프레임의 2개 열에 적용\n",
    "# x= df, a=df['age'], b=df['ten']\n",
    "df['add'] = df.apply(lambda x: add_two_obj(x['age'], x['ten'],), axis=1)\n",
    "print(df.head())"
   ]
  },
  {
   "cell_type": "markdown",
   "id": "854e3bf0",
   "metadata": {},
   "source": [
    "## 데이터프레임 객체에 함수 매핑\n",
    "데이터프레임 객체를 함수에 매핑하려면 pipe() 메소드를 활용한다.  \n",
    "이때 사용하는 함수가 반환하는 리턴값에 따라 pipe() 메소드가 반환하는 객체의 종류가 결정된다.  \n",
    "데이터프레임을 반환한느 경우, 시리즈를 반환하는 경우, 개별 값을 반환하는 경우로 나눌 수 있다.\n",
    "- 데이터프레임 객체에 함수 매핑: DataFrame 객체.pipe(매핑 함수)"
   ]
  },
  {
   "cell_type": "code",
   "execution_count": 8,
   "id": "fa56e1da",
   "metadata": {},
   "outputs": [],
   "source": [
    "import seaborn as sns\n",
    "\n",
    "# titanic 데이터셋에서 age,fare 2개 열을 선택하여 데이터프레임 만들기\n",
    "titanic = sns.load_dataset('titanic')\n",
    "df = titanic.loc[:, ['age', 'fare']]\n",
    "\n",
    "# 각 열의 NaN 찾기 - 데이터프레임을 전달하면 데이터프레임 변환\n",
    "def missing_value(x):\n",
    "    return x.isnull()\n",
    "\n",
    "# 각 열의 NaN 개수 변환 - 데이터프레임을 전달하면 시리즈 변환\n",
    "def missing_count(x):\n",
    "    return missing_value(x).sum()\n",
    "\n",
    "# 데이터프레임의 총 NaN 개수 - 데이터프레임을 전달하면 값 변환\n",
    "def total_number_missing(x):\n",
    "    return missing_count(x).sum()"
   ]
  },
  {
   "cell_type": "markdown",
   "id": "05587d0c",
   "metadata": {},
   "source": [
    "첫 번째 pipe() 메소드가 데이터프레임을 반환하는 케이스부터 살펴보자. missing_value(x) 함수는 데이터프레임을 입력받으면 isnull() 메소드를 이용하여 데이터프레임의 각 원소에서 누락 데이터(NaN) 여부를 True 또는 False로 표시하고, 그 결과를 데이터프레임으로 반환한다."
   ]
  },
  {
   "cell_type": "code",
   "execution_count": 9,
   "id": "d8e16a5a",
   "metadata": {},
   "outputs": [
    {
     "name": "stdout",
     "output_type": "stream",
     "text": [
      "     age   fare\n",
      "0  False  False\n",
      "1  False  False\n",
      "2  False  False\n",
      "3  False  False\n",
      "4  False  False\n",
      "<class 'pandas.core.frame.DataFrame'>\n"
     ]
    }
   ],
   "source": [
    "# 데이터프레임에 함수 매핑\n",
    "result_df = df.pipe(missing_value)\n",
    "print(result_df.head())\n",
    "print(type(result_df))"
   ]
  },
  {
   "cell_type": "markdown",
   "id": "7df8912d",
   "metadata": {},
   "source": [
    "두 번째 pipe() 메소드가 시리즈를 반환하는 케이스를 살펴보자. missing_count(x) 함수는 데이터프레임을 입력받으면 각 열의 누락 데이터 개수를 시리즈 형태로 반환한다."
   ]
  },
  {
   "cell_type": "code",
   "execution_count": 10,
   "id": "f9fac19a",
   "metadata": {},
   "outputs": [
    {
     "name": "stdout",
     "output_type": "stream",
     "text": [
      "age     177\n",
      "fare      0\n",
      "dtype: int64\n",
      "<class 'pandas.core.series.Series'>\n"
     ]
    }
   ],
   "source": [
    "result_series = df.pipe(missing_count)\n",
    "print(result_series)\n",
    "print(type(result_series))"
   ]
  },
  {
   "cell_type": "markdown",
   "id": "dec88dcd",
   "metadata": {},
   "source": [
    "세 번째 pip()메소드가 하나의 값을 반환하는 케이스를 보자. total_number_missing(x) 함수는 데이터프레임을 입력받으면, 각 열의 누락 데이터(NaN)의 개수를 합산하여 반환한다."
   ]
  },
  {
   "cell_type": "code",
   "execution_count": 12,
   "id": "4e3722c7",
   "metadata": {},
   "outputs": [
    {
     "name": "stdout",
     "output_type": "stream",
     "text": [
      "177\n",
      "<class 'numpy.int64'>\n"
     ]
    }
   ],
   "source": [
    "result_value = df.pipe(total_number_missing)\n",
    "print(result_value)\n",
    "print(type(result_value))"
   ]
  },
  {
   "cell_type": "markdown",
   "id": "584dd124",
   "metadata": {},
   "source": [
    "# 열 재구성\n",
    "## 열 순서 변경\n",
    "데이터프레임의 열 순서를 변경하는 방법을 알아보자. 열 이름을 원한느 순서대로 정리해서 리스트를 만들고 데이터프레임에서 열을 다시 선택하는 방식으로 열 순서를 바꿀 수 있다.\n",
    "- 데이터프레임의 열 순서 변경: DataFrame 객체(재구성한 열 이름의 리스트)"
   ]
  },
  {
   "cell_type": "code",
   "execution_count": 13,
   "id": "010b01c4",
   "metadata": {},
   "outputs": [
    {
     "name": "stdout",
     "output_type": "stream",
     "text": [
      "   survived  pclass     sex   age\n",
      "0         0       3    male  22.0\n",
      "1         1       1  female  38.0\n",
      "2         1       3  female  26.0\n",
      "3         1       1  female  35.0\n",
      "4         0       3    male  35.0 \n",
      "\n"
     ]
    }
   ],
   "source": [
    "import seaborn as sns\n",
    "\n",
    "# titanic 데이터셋의 부분을 선택하여 데이터프레임 만들기\n",
    "titanic =sns.load_dataset('titanic')\n",
    "df = titanic.loc[0:4, 'survived':'age']\n",
    "print(df, '\\n')"
   ]
  },
  {
   "cell_type": "markdown",
   "id": "39966cf8",
   "metadata": {},
   "source": [
    "데이터프레임의 열 이름 배열을 나타내는 df.columns.values 속성을 선택하여 파이썬 list() 함수에 전달한다.  \n",
    "데이터프레임의 열이 원래 순서를 유지한 상태에서 리스트로 변환된다."
   ]
  },
  {
   "cell_type": "code",
   "execution_count": 14,
   "id": "37cefe8a",
   "metadata": {},
   "outputs": [
    {
     "name": "stdout",
     "output_type": "stream",
     "text": [
      "['survived', 'pclass', 'sex', 'age'] \n",
      "\n"
     ]
    }
   ],
   "source": [
    "# 열 이름의 리스트 만들기\n",
    "columns = list(df.columns.values) # 기존 열 이름\n",
    "print(columns, '\\n')"
   ]
  },
  {
   "cell_type": "markdown",
   "id": "9208511d",
   "metadata": {},
   "source": [
    "sorted() 함수에 columns 변수를 입력하면 열 이름이 알파벳 순서대로 정렬된다.  \n",
    "정렬된 열 이름의 리스트를 이용하여 df에서 해당 열들을 선택한다. df_sorted 변수에는 columns_sorted에 저장된 ['age', 'pclass', 'sex', 'survived'] 순서로 데이터프레임의 열 순서가 변경된다."
   ]
  },
  {
   "cell_type": "code",
   "execution_count": 16,
   "id": "486ce56b",
   "metadata": {},
   "outputs": [
    {
     "name": "stdout",
     "output_type": "stream",
     "text": [
      "    age  pclass     sex  survived\n",
      "0  22.0       3    male         0\n",
      "1  38.0       1  female         1\n",
      "2  26.0       3  female         1\n",
      "3  35.0       1  female         1\n",
      "4  35.0       3    male         0 \n",
      "\n"
     ]
    }
   ],
   "source": [
    "# 열 이름은 알파벳 순으로 정렬하기\n",
    "columns_sorted =sorted(columns)\n",
    "df_sorted = df[columns_sorted]\n",
    "print(df_sorted, '\\n')"
   ]
  },
  {
   "cell_type": "markdown",
   "id": "8eb49284",
   "metadata": {},
   "source": [
    "reverse() 함수에 columns 변수를 전달하면 기존 순서의 정반대 역순으로 정렬된다.  \n",
    "정렬 결과를 리스트로 변환하고 columns_reversed에 저장한다. 정렬된 열 이름의 리스트를 이용하여 데이터프레임의 열 순서가 ['age',' 'sex', 'pclass', 'survived'] 순으로 변경된다."
   ]
  },
  {
   "cell_type": "code",
   "execution_count": 18,
   "id": "29da402c",
   "metadata": {},
   "outputs": [
    {
     "name": "stdout",
     "output_type": "stream",
     "text": [
      "    age     sex  pclass  survived\n",
      "0  22.0    male       3         0\n",
      "1  38.0  female       1         1\n",
      "2  26.0  female       3         1\n",
      "3  35.0  female       1         1\n",
      "4  35.0    male       3         0 \n",
      "\n"
     ]
    }
   ],
   "source": [
    "# 열 이름을 기준 순서의 정반대 역순으로 정렬하기\n",
    "columns_reversed = list(reversed(columns))\n",
    "df_reversed = df[columns_reversed]\n",
    "print(df_reversed, '\\n')"
   ]
  },
  {
   "cell_type": "markdown",
   "id": "a95319db",
   "metadata": {},
   "source": [
    "columns_customed와 같이 임의의 순서로 열 이름을 재배치한 상태로 데이터프레임 df에서 각 열을 순서에 맞춰서 선택할 수 있다.  \n",
    "['pclass', 'sex', 'age', 'servived'] 순서로 정리된다."
   ]
  },
  {
   "cell_type": "code",
   "execution_count": 19,
   "id": "3ccaa50d",
   "metadata": {},
   "outputs": [
    {
     "name": "stdout",
     "output_type": "stream",
     "text": [
      "   pclass     sex   age  survived\n",
      "0       3    male  22.0         0\n",
      "1       1  female  38.0         1\n",
      "2       3  female  26.0         1\n",
      "3       1  female  35.0         1\n",
      "4       3    male  35.0         0\n"
     ]
    }
   ],
   "source": [
    "# 열 이름을 사용자가 정의한 임의의 순서로 재배치하기\n",
    "columns_customed = ['pclass', 'sex', 'age', 'survived']\n",
    "df_customed = df[columns_customed]\n",
    "print(df_customed)"
   ]
  },
  {
   "cell_type": "markdown",
   "id": "94e59ebb",
   "metadata": {},
   "source": [
    "## 열 분리\n",
    "하나의 열이 여러 가지 정보를 담고 있을 때 각 정보를 서로 분리해서 사용하는 경우가 있다. 어떤 열에 '연월일' 정보가 있을 때 '연', '월', '일'을 구분하여 3개의 열을 만드는 것이나, 사람의 이름이 들어 있는 열을 '성'과 '이름'을 구분하는 것을 예로 들 수 있다."
   ]
  },
  {
   "cell_type": "code",
   "execution_count": 23,
   "id": "72ce8a7d",
   "metadata": {},
   "outputs": [
    {
     "name": "stdout",
     "output_type": "stream",
     "text": [
      "         연월일   당일종가  전일종가     시가     고가     저가     거래량\n",
      "0 2018-07-02  10100   600  10850  10900  10000  137977\n",
      "1 2018-06-29  10700   300  10550  10900   9990  170253\n",
      "2 2018-06-28  10400   500  10900  10950  10150  155769\n",
      "3 2018-06-27  10900   100  10800  11050  10500  133548\n",
      "4 2018-06-26  10800   350  10900  11000  10700   63039 \n",
      "\n",
      "연월일     datetime64[ns]\n",
      "당일종가             int64\n",
      "전일종가             int64\n",
      "시가               int64\n",
      "고가               int64\n",
      "저가               int64\n",
      "거래량              int64\n",
      "dtype: object \n",
      "\n"
     ]
    }
   ],
   "source": [
    "import pandas as pd\n",
    "\n",
    "# 데이터셋 가져오기\n",
    "df = pd.read_excel('주가데이터.xlsx')\n",
    "print(df.head(), '\\n')\n",
    "print(df.dtypes, '\\n')"
   ]
  },
  {
   "cell_type": "markdown",
   "id": "73aaf1b9",
   "metadata": {},
   "source": [
    "astype() 메소드를 사용하여 '연월일' 열의 시간형 데이터를 문자열로 변경한다. split() 메소드를 '연월일' 열의 문자열 속성에 적용하면, '연-월-일' 형식의 문자열 데이터를 분리하여, ['연','월','일'] 형태의 리스트로 정리한다. 반환되는 객체는 시리즈이고 dates변수에 저장한다."
   ]
  },
  {
   "cell_type": "code",
   "execution_count": 24,
   "id": "0c45fefd",
   "metadata": {},
   "outputs": [
    {
     "name": "stdout",
     "output_type": "stream",
     "text": [
      "0    [2018, 07, 02]\n",
      "1    [2018, 06, 29]\n",
      "2    [2018, 06, 28]\n",
      "3    [2018, 06, 27]\n",
      "4    [2018, 06, 26]\n",
      "Name: 연월일, dtype: object \n",
      "\n"
     ]
    }
   ],
   "source": [
    "# 연, 월, 일 데이터 분리하기\n",
    "df['연월일'] = df['연월일'].astype('str') #문자열 메소드 사용을 위해 자료형 변경\n",
    "dates = df['연월일'].str.split('-') # 문자열을 split() 메소드로 분리\n",
    "print(dates.head(), '\\n')"
   ]
  },
  {
   "cell_type": "markdown",
   "id": "6588edac",
   "metadata": {},
   "source": [
    "dates 변수에 저장된 문자열 리스트의 원소를 선택하기 위해 get() 메소드를 활용한다.  \n",
    "각 원소 리스트의 인덱스 0, 1, 2를 전달하여 '연', '월', '일' 데이터를 따로 선택할 수 있다.  \n",
    "순서대로 데이터프레임 df의 새로운 열로 추가한다.\n",
    "- 시리즈의 문자열 리스트 인덱싱: Series 객체.str.get(인덱스)"
   ]
  },
  {
   "cell_type": "code",
   "execution_count": 25,
   "id": "41caa1cc",
   "metadata": {},
   "outputs": [
    {
     "name": "stdout",
     "output_type": "stream",
     "text": [
      "          연월일   당일종가  전일종가     시가     고가     저가     거래량     연   월   일\n",
      "0  2018-07-02  10100   600  10850  10900  10000  137977  2018  07  02\n",
      "1  2018-06-29  10700   300  10550  10900   9990  170253  2018  06  29\n",
      "2  2018-06-28  10400   500  10900  10950  10150  155769  2018  06  28\n",
      "3  2018-06-27  10900   100  10800  11050  10500  133548  2018  06  27\n",
      "4  2018-06-26  10800   350  10900  11000  10700   63039  2018  06  26\n"
     ]
    }
   ],
   "source": [
    "# 분리된 정부를 각각 새로운 열에 담아 df에 추가하기\n",
    "df['연'] = dates.str.get(0) # dates 변수의 원소 리스트의 0번째 인덱스 값\n",
    "df['월'] = dates.str.get(1) # dates 변수의 원소 리스트의 1번째 인덱스 값\n",
    "df['일'] = dates.str.get(2) # dates 변수의 원소 리스트의 2번째 인덱스 값\n",
    "print(df.head())"
   ]
  },
  {
   "cell_type": "markdown",
   "id": "4d0eb620",
   "metadata": {},
   "source": [
    "# 필터링\n",
    "시리즈 또는 데이터프레임의 데이터 중에서 특정 조건식을 만족하는 원소만 따로 추출하는 개념이다. 가장 대표적인 방법인 불린 인덱싱(boolean indexing) 부터 알아보자.  \n",
    "\n",
    "## 불린 인덱싱\n",
    "시리즈 객체에 어떤 조건식을 적용하면 각 원소에 대해 참/거짓을 판별하여 불린(참, 거짓) 값으로 구성된 시리즈를 반환한다.  \n",
    "이때 참에 ㄷ해당하는 데이터 값을 따로 선택할 수 있는데, 많은 데이터 중에서 어떤 조건을 만족하는 데이터만을 추출하는 필터링 기법의 한 유형이다.  \n",
    "데이터프레임의 각 열은 시리즈 객체이므로, 조건식(>,<,==,...)을 적용하면 각 원소가 조건을 만족하는지 여부를 참과 거짓 값으로 표시하여 불린 시르즈를 만들 수 있다. 이 불린 시리즈를 데이터프레임에 대입하면 조건을 만족하는 행동들만 선택할 수 있다.\n",
    "- 데이터프레임의 불린 인덱싱: DataFrame 객체(불린 시리즈)"
   ]
  },
  {
   "cell_type": "code",
   "execution_count": 26,
   "id": "9c0282da",
   "metadata": {},
   "outputs": [
    {
     "name": "stdout",
     "output_type": "stream",
     "text": [
      "     survived  pclass     sex   age  sibsp  parch      fare embarked   class  \\\n",
      "9           1       2  female  14.0      1      0   30.0708        C  Second   \n",
      "14          0       3  female  14.0      0      0    7.8542        S   Third   \n",
      "22          1       3  female  15.0      0      0    8.0292        Q   Third   \n",
      "27          0       1    male  19.0      3      2  263.0000        S   First   \n",
      "38          0       3  female  18.0      2      0   18.0000        S   Third   \n",
      "..        ...     ...     ...   ...    ...    ...       ...      ...     ...   \n",
      "853         1       1  female  16.0      0      1   39.4000        S   First   \n",
      "855         1       3  female  18.0      0      1    9.3500        S   Third   \n",
      "875         1       3  female  15.0      0      0    7.2250        C   Third   \n",
      "877         0       3    male  19.0      0      0    7.8958        S   Third   \n",
      "887         1       1  female  19.0      0      0   30.0000        S   First   \n",
      "\n",
      "       who  adult_male deck  embark_town alive  alone  \n",
      "9    child       False  NaN    Cherbourg   yes  False  \n",
      "14   child       False  NaN  Southampton    no   True  \n",
      "22   child       False  NaN   Queenstown   yes   True  \n",
      "27     man        True    C  Southampton    no  False  \n",
      "38   woman       False  NaN  Southampton    no  False  \n",
      "..     ...         ...  ...          ...   ...    ...  \n",
      "853  woman       False    D  Southampton   yes  False  \n",
      "855  woman       False  NaN  Southampton   yes  False  \n",
      "875  child       False  NaN    Cherbourg   yes   True  \n",
      "877    man        True  NaN  Southampton    no   True  \n",
      "887  woman       False    B  Southampton   yes   True  \n",
      "\n",
      "[102 rows x 15 columns]\n"
     ]
    }
   ],
   "source": [
    "# 라이브러리 불러오기\n",
    "import seaborn as sns\n",
    "\n",
    "# titanic 데이터셋 로딩\n",
    "titanic = sns.load_dataset('titanic')\n",
    "\n",
    "# 나이가 10대(10~19세)인 승객만 따로 선택\n",
    "mask1 = (titanic.age >= 10) & (titanic.age < 20)\n",
    "df_teenage = titanic.loc[mask1, :]\n",
    "print(df_teenage)"
   ]
  },
  {
   "cell_type": "markdown",
   "id": "28e6fc45",
   "metadata": {},
   "source": [
    "서로 다른 두 열('age', 'sex')에 조건식을 적용한다. 나이가 10세 미만이고 성별이 여성인 승객들만 따로 선택한다. AND(&) 연산자로 결합하여 두 조건식이 모두 참인 경우만 추출한다."
   ]
  },
  {
   "cell_type": "code",
   "execution_count": 27,
   "id": "1c08bfa0",
   "metadata": {},
   "outputs": [
    {
     "name": "stdout",
     "output_type": "stream",
     "text": [
      "     survived  pclass     sex  age  sibsp  parch     fare embarked   class  \\\n",
      "10          1       3  female  4.0      1      1  16.7000        S   Third   \n",
      "24          0       3  female  8.0      3      1  21.0750        S   Third   \n",
      "43          1       2  female  3.0      1      2  41.5792        C  Second   \n",
      "58          1       2  female  5.0      1      2  27.7500        S  Second   \n",
      "119         0       3  female  2.0      4      2  31.2750        S   Third   \n",
      "\n",
      "       who  adult_male deck  embark_town alive  alone  \n",
      "10   child       False    G  Southampton   yes  False  \n",
      "24   child       False  NaN  Southampton    no  False  \n",
      "43   child       False  NaN    Cherbourg   yes  False  \n",
      "58   child       False  NaN  Southampton   yes  False  \n",
      "119  child       False  NaN  Southampton    no  False  \n"
     ]
    }
   ],
   "source": [
    "# 나이가 10세 미만(0~9세)이고 여성인 승객만 따로 선택\n",
    "mask2 = (titanic.age<10) & (titanic.sex=='female')\n",
    "df_female_under10 = titanic.loc[mask2,:]\n",
    "print(df_female_under10.head())"
   ]
  },
  {
   "cell_type": "markdown",
   "id": "b37b639e",
   "metadata": {},
   "source": [
    "한편 두 조건식을 OR(|) 연산자로 결합하여 두 조건 중에서 하나라도 참인 값을 추출할 수 있다. 예제에서는 ['age', 'sex', 'alone'] 형식으로 추출하려는 열 이름을 지정한다."
   ]
  },
  {
   "cell_type": "code",
   "execution_count": 28,
   "id": "b4980e25",
   "metadata": {},
   "outputs": [
    {
     "name": "stdout",
     "output_type": "stream",
     "text": [
      "     age     sex  alone\n",
      "7    2.0    male  False\n",
      "9   14.0  female  False\n",
      "10   4.0  female  False\n",
      "14  14.0  female   True\n",
      "16   2.0    male  False\n"
     ]
    }
   ],
   "source": [
    "# 나이가 10세 미만(0~9세) 또는 60세 이상인 싱객의 age, sex, alone 열만 선택\n",
    "mask3 = (titanic.age<18) | (titanic.age >=60)\n",
    "df_under10_morethan60 = titanic.loc[mask3, ['age', 'sex', 'alone']]\n",
    "print(df_under10_morethan60.head())"
   ]
  },
  {
   "cell_type": "markdown",
   "id": "b07f746a",
   "metadata": {},
   "source": [
    "## isin() 메소드 활용\n",
    "데이터프레임의 열에  isin() 메소드를 적용하면 특정 값을 가진 행들을 따로 추출할 수 있다.\n",
    "이때 isin() 메소드에 데이터프레임의 열에서 추출하려는 값들로 만든 리스트를 전달한다.\n",
    "- isin() 메소드를 활용한 필터링: DataFrame의 열 객체.isin(추출 값의 리스트)"
   ]
  },
  {
   "cell_type": "code",
   "execution_count": 31,
   "id": "c2b6a049",
   "metadata": {},
   "outputs": [
    {
     "name": "stdout",
     "output_type": "stream",
     "text": [
      "    survived  pclass     sex   age  sibsp  ...  adult_male  deck  embark_town  \\\n",
      "7          0       3    male   2.0      3  ...       False   NaN  Southampton   \n",
      "16         0       3    male   2.0      4  ...       False   NaN   Queenstown   \n",
      "24         0       3  female   8.0      3  ...       False   NaN  Southampton   \n",
      "27         0       1    male  19.0      3  ...        True     C  Southampton   \n",
      "50         0       3    male   7.0      4  ...       False   NaN  Southampton   \n",
      "\n",
      "   alive  alone  \n",
      "7     no  False  \n",
      "16    no  False  \n",
      "24    no  False  \n",
      "27    no  False  \n",
      "50    no  False  \n",
      "\n",
      "[5 rows x 15 columns]\n"
     ]
    }
   ],
   "source": [
    "# 라이브러리 불러오기\n",
    "import seaborn as sns\n",
    "import pandas as pd\n",
    "\n",
    "# titanic 데이터셋 로딩\n",
    "titanic = sns.load_dataset('titanic')\n",
    "\n",
    "# IPython 디스플레이 설정 변경 - 출력할 최대 열의 개수\n",
    "pd.set_option('display.max_columns', 10)\n",
    "\n",
    "# 함께 탑승한 형제 또는 배우자의 수가 3,4,5 인 승객만 따로 추출- 불린 인덱싱\n",
    "mask3 = titanic['sibsp'] == 3\n",
    "mask4 =titanic['sibsp'] == 4\n",
    "mask5 = titanic['sibsp'] ==5\n",
    "df_boolean = titanic[mask3 | mask4 | mask5 ]\n",
    "print(df_boolean.head())"
   ]
  },
  {
   "cell_type": "markdown",
   "id": "de2e995a",
   "metadata": {},
   "source": [
    "이번에는 isin() 메소드를 활용하는 필터링을 살펴보자. isin() 메소드의 인자로 [3, 4, 5] 형태의 리스트를 전달하면 해당 값이 존재하는 행은 참을 반환하고, 값이 없으면 거짓을 반환한다.\n",
    "조건을 만족하는 행들만 선택하여 df_isin에 저장한다. 불린 인덱싱으로 추출한 결과와 같다."
   ]
  },
  {
   "cell_type": "code",
   "execution_count": 32,
   "id": "7db9c692",
   "metadata": {},
   "outputs": [
    {
     "name": "stdout",
     "output_type": "stream",
     "text": [
      "    survived  pclass     sex   age  sibsp  ...  adult_male  deck  embark_town  \\\n",
      "7          0       3    male   2.0      3  ...       False   NaN  Southampton   \n",
      "16         0       3    male   2.0      4  ...       False   NaN   Queenstown   \n",
      "24         0       3  female   8.0      3  ...       False   NaN  Southampton   \n",
      "27         0       1    male  19.0      3  ...        True     C  Southampton   \n",
      "50         0       3    male   7.0      4  ...       False   NaN  Southampton   \n",
      "\n",
      "   alive  alone  \n",
      "7     no  False  \n",
      "16    no  False  \n",
      "24    no  False  \n",
      "27    no  False  \n",
      "50    no  False  \n",
      "\n",
      "[5 rows x 15 columns]\n"
     ]
    }
   ],
   "source": [
    "# isin() 메소드 활용하여 동일한 조건으로 추출\n",
    "isin_filter = titanic['sibsp'].isin([3, 4, 5])\n",
    "df_isin = titanic[isin_filter]\n",
    "print(df_isin.head())"
   ]
  },
  {
   "cell_type": "markdown",
   "id": "f4a5322e",
   "metadata": {},
   "source": [
    "# 데이터프레임 합치기\n",
    "데이터가 여러 군데 나누어져 있을 때 하나로 합치거나 데이터를 연결해야 하는 경우가 있다.  \n",
    "판다스에서 데이터프레임을 합치거나 연결할 때 사용하는 함수와 메소드는 여러가지 있는데, 대표적으로 concat(), merge(), join() 등을 예로 들 수 있다.\n",
    "\n",
    "## 데이터프레임 연결\n",
    "서로 다른 데이터프레임들의 구성 형태와 속성이 균일하다면, 행 또는 열 중에 어느 한 방향으로 이어 붙여도 데이터의 일관성을 유지할 수 있다. 기존 데이터 프레임의 형태를 유지하면서 이어 붙이는 개념으로 판다스 concat() 함수를 활용한다.\n",
    "- 데이터프레임 연걸: pandas.concat(데이터프레임 리스트)  \n",
    "concat() 함수에 데이터프레임을 원소로 갖는 리스트를 전달하면 여러 개의 데이터프레임을 서로 연결한다. 축방향을 지정하지 않으면 기본 옵션(axis=0)이 적용되어 위 아래 행 방향으로 연결된다. 이때 각 데이터프레임의 행 인덱스는 본래 형태를 유지한다.  \n",
    "`join='outer'`은 합집합, `join='inner'`은 교집합 기준이 된다."
   ]
  },
  {
   "cell_type": "code",
   "execution_count": 33,
   "id": "8761d907",
   "metadata": {},
   "outputs": [
    {
     "name": "stdout",
     "output_type": "stream",
     "text": [
      "    a   b   c\n",
      "0  a0  b0  c0\n",
      "1  a1  b1  c1\n",
      "2  a2  b2  c2\n",
      "3  a3  b3  c3 \n",
      "\n",
      "    a   b   c   d\n",
      "2  a2  b2  c2  d2\n",
      "3  a3  b3  c3  d3\n",
      "4  a4  b4  c4  d4\n",
      "5  a5  b5  c5  d5 \n",
      "\n",
      "    a   b   c    d\n",
      "0  a0  b0  c0  NaN\n",
      "1  a1  b1  c1  NaN\n",
      "2  a2  b2  c2  NaN\n",
      "3  a3  b3  c3  NaN\n",
      "2  a2  b2  c2   d2\n",
      "3  a3  b3  c3   d3\n",
      "4  a4  b4  c4   d4\n",
      "5  a5  b5  c5   d5 \n",
      "\n"
     ]
    }
   ],
   "source": [
    "import pandas as pd\n",
    "\n",
    "# 데이터프레임 만들기\n",
    "df1 = pd.DataFrame({'a':['a0', 'a1', 'a2', 'a3'],\n",
    "                   'b': ['b0', 'b1', 'b2', 'b3'],\n",
    "                   'c': ['c0', 'c1', 'c2', 'c3']},\n",
    "                  index=[0, 1, 2, 3])\n",
    "df2 = pd.DataFrame({'a':['a2', 'a3', 'a4', 'a5'],\n",
    "                   'b': ['b2', 'b3', 'b4', 'b5'],\n",
    "                   'c': ['c2', 'c3', 'c4', 'c5'],\n",
    "                   'd': ['d2', 'd3', 'd4', 'd5']},\n",
    "                  index=[2, 3, 4, 5])\n",
    "print(df1, '\\n')\n",
    "print(df2, '\\n')\n",
    "\n",
    "# 2개의 데이터프레임을 위 아래 행 방향으로 이어 붙이듯 연결하기\n",
    "result1 = pd.concat([df1, df2])\n",
    "print(result1, '\\n')"
   ]
  },
  {
   "cell_type": "markdown",
   "id": "f8e10dff",
   "metadata": {},
   "source": [
    "`ignore_index=True` 옵션은 기존 행 인덱스를 무시하고 새로운 행 인덱스를 설정한다.  \n",
    "예제와 같이 정수형 위치 인덱스가 새롭게 설정된다.(0-7 범위)"
   ]
  },
  {
   "cell_type": "code",
   "execution_count": 34,
   "id": "4e78edc7",
   "metadata": {},
   "outputs": [
    {
     "name": "stdout",
     "output_type": "stream",
     "text": [
      "    a   b   c    d\n",
      "0  a0  b0  c0  NaN\n",
      "1  a1  b1  c1  NaN\n",
      "2  a2  b2  c2  NaN\n",
      "3  a3  b3  c3  NaN\n",
      "4  a2  b2  c2   d2\n",
      "5  a3  b3  c3   d3\n",
      "6  a4  b4  c4   d4\n",
      "7  a5  b5  c5   d5 \n",
      "\n"
     ]
    }
   ],
   "source": [
    "# ignore_index=True 옵션 설정하기\n",
    "result2 = pd.concat([df1, df2], ignore_index=True)\n",
    "print(result2, '\\n')"
   ]
  },
  {
   "cell_type": "markdown",
   "id": "a4e639ab",
   "metadata": {},
   "source": [
    "`axis=1` 옵션을 사용하면 데이터프레임을 좌우 열 방향으로 연결한다. 따라서 기존 열 이름 배열이 그대로 유지된다."
   ]
  },
  {
   "cell_type": "code",
   "execution_count": 35,
   "id": "8300a7c4",
   "metadata": {},
   "outputs": [
    {
     "name": "stdout",
     "output_type": "stream",
     "text": [
      "     a    b    c    a    b    c    d\n",
      "0   a0   b0   c0  NaN  NaN  NaN  NaN\n",
      "1   a1   b1   c1  NaN  NaN  NaN  NaN\n",
      "2   a2   b2   c2   a2   b2   c2   d2\n",
      "3   a3   b3   c3   a3   b3   c3   d3\n",
      "4  NaN  NaN  NaN   a4   b4   c4   d4\n",
      "5  NaN  NaN  NaN   a5   b5   c5   d5 \n",
      "\n"
     ]
    }
   ],
   "source": [
    "# 2개의 데이터프레임을 좌우 열 방향으로 이어 붙이듯 연결하기\n",
    "result3 = pd.concat([df1, df2], axis=1)\n",
    "print(result3, '\\n')"
   ]
  },
  {
   "cell_type": "markdown",
   "id": "7e1d79fa",
   "metadata": {},
   "source": [
    "`join='inner'` 옵션을 설정하면 연결할 데이터프레임들의 행 인덱스의 교집합을 기준으로 사용한다.  \n",
    "앞의 df1과 df2에 적용하면 양쪽에 공통으로 존재하는 2-3행의 데이터만 반환한다."
   ]
  },
  {
   "cell_type": "code",
   "execution_count": 38,
   "id": "fb841abd",
   "metadata": {},
   "outputs": [
    {
     "name": "stdout",
     "output_type": "stream",
     "text": [
      "    a   b   c   a   b   c   d\n",
      "2  a2  b2  c2  a2  b2  c2  d2\n",
      "3  a3  b3  c3  a3  b3  c3  d3 \n",
      "\n"
     ]
    }
   ],
   "source": [
    "# join='inner' 옵션 적용하기(교집합)\n",
    "result3_in = pd.concat([df1, df2], axis=1, join='inner')\n",
    "print(result3_in, '\\n')"
   ]
  },
  {
   "cell_type": "markdown",
   "id": "81cfd14d",
   "metadata": {},
   "source": [
    "데이터프레임과 시리즈를 좌우 열 방향으로 연결할 수도 있다. 데이터프레임에 열을 추가하는 것과 같다. 이때 시리즈의 이름이 데이터프레임의 열 이름으로 변환된다. 단 데이터 프레임의 행 인덱스와 시리즈의 인덱스가 같아야한다. 공통 인덱스가 없을 경우 NaN으로 처리한다."
   ]
  },
  {
   "cell_type": "code",
   "execution_count": 39,
   "id": "1f0aa55f",
   "metadata": {},
   "outputs": [
    {
     "name": "stdout",
     "output_type": "stream",
     "text": [
      "    a   b   c   e\n",
      "0  a0  b0  c0  e0\n",
      "1  a1  b1  c1  e1\n",
      "2  a2  b2  c2  e2\n",
      "3  a3  b3  c3  e3 \n",
      "\n",
      "     a    b    c    d    f\n",
      "0  NaN  NaN  NaN  NaN   f0\n",
      "1  NaN  NaN  NaN  NaN   f1\n",
      "2   a2   b2   c2   d2   f2\n",
      "3   a3   b3   c3   d3   f3\n",
      "4   a4   b4   c4   d4  NaN\n",
      "5   a5   b5   c5   d5  NaN \n",
      "\n"
     ]
    }
   ],
   "source": [
    "# 시리즈 만들기\n",
    "sr1 = pd.Series(['e0', 'e1', 'e2', 'e3'], name='e')\n",
    "sr2 = pd.Series(['f0', 'f1', 'f2', 'f3'], name='f')\n",
    "sr3 = pd.Series(['g0', 'g1', 'g2', 'g3'], name='g')\n",
    "# df1과 sr1을 좌우 열 방향으로 연결하기\n",
    "result4 = pd.concat([df1, sr1], axis = 1)\n",
    "print(result4, '\\n')\n",
    "\n",
    "result5 = pd.concat([df2, sr2], axis= 1)\n",
    "print(result5, '\\n')"
   ]
  },
  {
   "cell_type": "markdown",
   "id": "a7c3a338",
   "metadata": {},
   "source": [
    "시리즈들로 만든 리스트를 concat() 함수에 전달하면 시리즈가 서로 연결된다. axis = 1 옵션을 적용하면 좌우 열 방향으로 연결하여 데이터프레임이 된다. 한편 axis=0 옵션을 적용하면 위 아래 행 방향으로 길게 연결되어 하나의 시리즈가 된다."
   ]
  },
  {
   "cell_type": "code",
   "execution_count": 40,
   "id": "c67c5548",
   "metadata": {},
   "outputs": [
    {
     "name": "stdout",
     "output_type": "stream",
     "text": [
      "    e   g\n",
      "0  e0  g0\n",
      "1  e1  g1\n",
      "2  e2  g2\n",
      "3  e3  g3 \n",
      "\n",
      "0    e0\n",
      "1    e1\n",
      "2    e2\n",
      "3    e3\n",
      "0    g0\n",
      "1    g1\n",
      "2    g2\n",
      "3    g3\n",
      "dtype: object \n",
      "\n"
     ]
    }
   ],
   "source": [
    "# sr1과 sr3을 좌우 열 방향으로 연결하기\n",
    "result6 = pd.concat([sr1, sr3], axis=1)\n",
    "print(result6, '\\n')\n",
    "\n",
    "result7 = pd.concat([sr1, sr3], axis=0)\n",
    "print(result7, '\\n')"
   ]
  },
  {
   "cell_type": "markdown",
   "id": "2e2b5028",
   "metadata": {},
   "source": [
    "## 데이터프레임 병합\n",
    "앞에서 살펴본 concat()함수가 여러 데이터프레임을 이어 붙이듯 연결하는 것이라면, merge()함수는 SQL의 join 명령과 비슷한 방식으로 어떤 기준에 의해 두 데이터프레임을 병합하는 개념이다. 이때 기준이 되는 열이나 인덱스를 키(key)라고 부른다.  \n",
    "키가 되는 열이나 인덱스는 반드시 양쪽 데이터프레임에 모두 존재해야 한다.\n",
    "- 데이터프레임 병합: pandas.merge(df_left, df_right, how='inner', on=None)"
   ]
  },
  {
   "cell_type": "code",
   "execution_count": 41,
   "id": "5d8b833b",
   "metadata": {},
   "outputs": [
    {
     "name": "stdout",
     "output_type": "stream",
     "text": [
      "       id    stock_name          value   price\n",
      "0  128940      한미약품   59385.666667  421000\n",
      "1  130960        CJ E&M   58540.666667   98900\n",
      "2  138250    엔에스쇼핑   14558.666667   13200\n",
      "3  139480        이마트  239230.833333  254500\n",
      "4  142280  녹십자엠에스     468.833333   10200\n",
      "5  145990        삼양사   82750.000000   82000\n",
      "6  185750        종근당   40293.666667  100500\n",
      "7  192400    쿠쿠홀딩스  179204.666667  177500\n",
      "8  199800          툴젠   -2514.333333  115400\n",
      "9  204210  모두투어리츠    3093.333333    3475\n",
      "\n",
      "\n",
      "       id              name           eps     bps        per       pbr\n",
      "0  130960            CJ E&M   6301.333333   54068  15.695091  1.829178\n",
      "1  136480              하림    274.166667    3551  11.489362  0.887074\n",
      "2  138040    메리츠금융지주   2122.333333   14894   6.313806  0.899691\n",
      "3  139480            이마트  18268.166667  295780  13.931338  0.860437\n",
      "4  145990            삼양사   5741.000000  108090  14.283226  0.758627\n",
      "5  161390        한국타이어   5648.500000   51341   7.453306  0.820007\n",
      "6  181710   NHN엔터테인먼트   2110.166667   78434  30.755864  0.827447\n",
      "7  185750            종근당   3990.333333   40684  25.185866  2.470259\n",
      "8  204210      모두투어리츠     85.166667    5335  40.802348  0.651359\n",
      "9  207940  삼성바이오로직스   4644.166667   60099  89.790059  6.938551\n"
     ]
    }
   ],
   "source": [
    "import pandas as pd\n",
    "\n",
    "# IPython 디스플레이 설정 변경\n",
    "pd.set_option('display.max_columns', 10) # 출력할 최대 열의 개수\n",
    "pd.set_option('display.max_colwidth', 20) # 출력할 열의 너비\n",
    "pd.set_option('display.unicode.east_asian_width', True) #유니코드 사용 너비 조정\n",
    "\n",
    "# 주식 데이터를 가져와서 데이터프레임 만들기\n",
    "df1 = pd.read_excel('./stock price.xlsx')\n",
    "df2 = pd.read_excel('./stock valuation.xlsx')\n",
    "\n",
    "print(df1)\n",
    "print('\\n')\n",
    "print(df2)"
   ]
  },
  {
   "cell_type": "markdown",
   "id": "46d7bb0e",
   "metadata": {},
   "source": [
    "병합하려는 두 데이터프레임을 merge() 함수에 전달한다. `on=None` 옵션과 `how='inner'` 옵션이 기본적으로 적용된다.  \n",
    "`on=None` 옵션은 두 데이터프레임에 공통으로 속하는 모든 열을 기준(키)으로 병합한다는 뜻이다.  \n",
    "한편 `how='inner'`옵션은 기준이 되는 열의 데이터가 양족 데이터프레임에 공통으로 존재하는 교집합일 경우에만 추출한다는 뜻이다."
   ]
  },
  {
   "cell_type": "code",
   "execution_count": 42,
   "id": "bbc4bd45",
   "metadata": {},
   "outputs": [
    {
     "name": "stdout",
     "output_type": "stream",
     "text": [
      "       id    stock_name          value   price          name           eps  \\\n",
      "0  130960        CJ E&M   58540.666667   98900        CJ E&M   6301.333333   \n",
      "1  139480        이마트  239230.833333  254500        이마트  18268.166667   \n",
      "2  145990        삼양사   82750.000000   82000        삼양사   5741.000000   \n",
      "3  185750        종근당   40293.666667  100500        종근당   3990.333333   \n",
      "4  204210  모두투어리츠    3093.333333    3475  모두투어리츠     85.166667   \n",
      "\n",
      "      bps        per       pbr  \n",
      "0   54068  15.695091  1.829178  \n",
      "1  295780  13.931338  0.860437  \n",
      "2  108090  14.283226  0.758627  \n",
      "3   40684  25.185866  2.470259  \n",
      "4    5335  40.802348  0.651359  \n"
     ]
    }
   ],
   "source": [
    "# 데이터프레임 합치기-교집합\n",
    "merge_inner = pd.merge(df1, df2)\n",
    "print(merge_inner)"
   ]
  },
  {
   "cell_type": "markdown",
   "id": "c292d1ba",
   "metadata": {},
   "source": [
    "이번에는 `on='id'` 옵션과 `how='outer'` 옵션을 설정한다. `on='id'` 옵션은 도 데이터프레임의 공통 열 중에서 'id'열을 키로 병합시킨다는 뜻이다. `how='outer'` 옵션은 기준이 되는 `id`열의 데이터가 데이터프레임 중 어느 한쪽에만 속하더라도 포함된다는 뜻이다. 따라서 `id`열 기준으로 모든 종목의 데이터가 포함된다. 어느 한 쪽이라도 데이터가 없는 열에는 NaN값이 지정된다."
   ]
  },
  {
   "cell_type": "code",
   "execution_count": 43,
   "id": "afcdea5a",
   "metadata": {},
   "outputs": [
    {
     "name": "stdout",
     "output_type": "stream",
     "text": [
      "        id    stock_name          value     price              name  \\\n",
      "0   128940      한미약품   59385.666667  421000.0               NaN   \n",
      "1   130960        CJ E&M   58540.666667   98900.0            CJ E&M   \n",
      "2   138250    엔에스쇼핑   14558.666667   13200.0               NaN   \n",
      "3   139480        이마트  239230.833333  254500.0            이마트   \n",
      "4   142280  녹십자엠에스     468.833333   10200.0               NaN   \n",
      "5   145990        삼양사   82750.000000   82000.0            삼양사   \n",
      "6   185750        종근당   40293.666667  100500.0            종근당   \n",
      "7   192400    쿠쿠홀딩스  179204.666667  177500.0               NaN   \n",
      "8   199800          툴젠   -2514.333333  115400.0               NaN   \n",
      "9   204210  모두투어리츠    3093.333333    3475.0      모두투어리츠   \n",
      "10  136480           NaN            NaN       NaN              하림   \n",
      "11  138040           NaN            NaN       NaN    메리츠금융지주   \n",
      "12  161390           NaN            NaN       NaN        한국타이어   \n",
      "13  181710           NaN            NaN       NaN   NHN엔터테인먼트   \n",
      "14  207940           NaN            NaN       NaN  삼성바이오로직스   \n",
      "\n",
      "             eps       bps        per       pbr  \n",
      "0            NaN       NaN        NaN       NaN  \n",
      "1    6301.333333   54068.0  15.695091  1.829178  \n",
      "2            NaN       NaN        NaN       NaN  \n",
      "3   18268.166667  295780.0  13.931338  0.860437  \n",
      "4            NaN       NaN        NaN       NaN  \n",
      "5    5741.000000  108090.0  14.283226  0.758627  \n",
      "6    3990.333333   40684.0  25.185866  2.470259  \n",
      "7            NaN       NaN        NaN       NaN  \n",
      "8            NaN       NaN        NaN       NaN  \n",
      "9      85.166667    5335.0  40.802348  0.651359  \n",
      "10    274.166667    3551.0  11.489362  0.887074  \n",
      "11   2122.333333   14894.0   6.313806  0.899691  \n",
      "12   5648.500000   51341.0   7.453306  0.820007  \n",
      "13   2110.166667   78434.0  30.755864  0.827447  \n",
      "14   4644.166667   60099.0  89.790059  6.938551  \n"
     ]
    }
   ],
   "source": [
    "# 데이터 프레임 합치기-합집합\n",
    "merge_outer =pd.merge(df1, df2, how='outer', on='id')\n",
    "print(merge_outer)"
   ]
  },
  {
   "cell_type": "markdown",
   "id": "16ccab22",
   "metadata": {},
   "source": [
    "how = 'left' 옵션을 설정하면 왼쪽 데이터프레임의 키 옆에 속하는 데이터 값을 기준으로 병합한다.  \n",
    "한편 left_on과 right_on 옵션을 사용하여 좌우 데이터프레임에 각각 다르게 키를 지정할 수 있다.  \n",
    "예제에서는 df1의 `stock_name`열과 df2의 `name` 열을 기준으로 병합한다.  \n",
    "기준열이 아닌 `id` 열의 경우 양쪽 데이터프레임에 모두 존재하기 때문에 'id_x', 'id_y' 와 같이 구분하여 표시된다."
   ]
  },
  {
   "cell_type": "code",
   "execution_count": 44,
   "id": "42fa8e85",
   "metadata": {},
   "outputs": [
    {
     "name": "stdout",
     "output_type": "stream",
     "text": [
      "     id_x    stock_name          value   price      id_y          name  \\\n",
      "0  128940      한미약품   59385.666667  421000       NaN           NaN   \n",
      "1  130960        CJ E&M   58540.666667   98900  130960.0        CJ E&M   \n",
      "2  138250    엔에스쇼핑   14558.666667   13200       NaN           NaN   \n",
      "3  139480        이마트  239230.833333  254500  139480.0        이마트   \n",
      "4  142280  녹십자엠에스     468.833333   10200       NaN           NaN   \n",
      "5  145990        삼양사   82750.000000   82000  145990.0        삼양사   \n",
      "6  185750        종근당   40293.666667  100500  185750.0        종근당   \n",
      "7  192400    쿠쿠홀딩스  179204.666667  177500       NaN           NaN   \n",
      "8  199800          툴젠   -2514.333333  115400       NaN           NaN   \n",
      "9  204210  모두투어리츠    3093.333333    3475  204210.0  모두투어리츠   \n",
      "\n",
      "            eps       bps        per       pbr  \n",
      "0           NaN       NaN        NaN       NaN  \n",
      "1   6301.333333   54068.0  15.695091  1.829178  \n",
      "2           NaN       NaN        NaN       NaN  \n",
      "3  18268.166667  295780.0  13.931338  0.860437  \n",
      "4           NaN       NaN        NaN       NaN  \n",
      "5   5741.000000  108090.0  14.283226  0.758627  \n",
      "6   3990.333333   40684.0  25.185866  2.470259  \n",
      "7           NaN       NaN        NaN       NaN  \n",
      "8           NaN       NaN        NaN       NaN  \n",
      "9     85.166667    5335.0  40.802348  0.651359  \n"
     ]
    }
   ],
   "source": [
    "# 데이터프레임 합치기- 왼쪽 데이터프레임 기준, 키 값 분리\n",
    "merge_left = pd.merge(df1, df2, how='left', left_on = 'stock_name', right_on='name')\n",
    "print(merge_left)"
   ]
  },
  {
   "cell_type": "markdown",
   "id": "adf28688",
   "metadata": {},
   "source": [
    "마지막으로 `how='right'` 옵션을 설정한다. 오른쪽 데이터프레임의 키 열을 기준으로 추출한다.  \n",
    "오른쪽 데이터프레임인 df2의 `name`열에 들어 있는 종목 데이터를 기준으로 병합한다."
   ]
  },
  {
   "cell_type": "code",
   "execution_count": 45,
   "id": "858ab91b",
   "metadata": {},
   "outputs": [
    {
     "name": "stdout",
     "output_type": "stream",
     "text": [
      "       id_x    stock_name          value     price    id_y              name  \\\n",
      "0  130960.0        CJ E&M   58540.666667   98900.0  130960            CJ E&M   \n",
      "1       NaN           NaN            NaN       NaN  136480              하림   \n",
      "2       NaN           NaN            NaN       NaN  138040    메리츠금융지주   \n",
      "3  139480.0        이마트  239230.833333  254500.0  139480            이마트   \n",
      "4  145990.0        삼양사   82750.000000   82000.0  145990            삼양사   \n",
      "5       NaN           NaN            NaN       NaN  161390        한국타이어   \n",
      "6       NaN           NaN            NaN       NaN  181710   NHN엔터테인먼트   \n",
      "7  185750.0        종근당   40293.666667  100500.0  185750            종근당   \n",
      "8  204210.0  모두투어리츠    3093.333333    3475.0  204210      모두투어리츠   \n",
      "9       NaN           NaN            NaN       NaN  207940  삼성바이오로직스   \n",
      "\n",
      "            eps     bps        per       pbr  \n",
      "0   6301.333333   54068  15.695091  1.829178  \n",
      "1    274.166667    3551  11.489362  0.887074  \n",
      "2   2122.333333   14894   6.313806  0.899691  \n",
      "3  18268.166667  295780  13.931338  0.860437  \n",
      "4   5741.000000  108090  14.283226  0.758627  \n",
      "5   5648.500000   51341   7.453306  0.820007  \n",
      "6   2110.166667   78434  30.755864  0.827447  \n",
      "7   3990.333333   40684  25.185866  2.470259  \n",
      "8     85.166667    5335  40.802348  0.651359  \n",
      "9   4644.166667   60099  89.790059  6.938551  \n"
     ]
    }
   ],
   "source": [
    "# 데이터프레임 합치기- 오른쪽 데이터프레임 기준, 키 값 분리\n",
    "merge_right = pd.merge(df1, df2, how='right', left_on='stock_name', right_on='name')\n",
    "print(merge_right)"
   ]
  },
  {
   "cell_type": "code",
   "execution_count": 46,
   "id": "71f48a0b",
   "metadata": {},
   "outputs": [
    {
     "name": "stdout",
     "output_type": "stream",
     "text": [
      "       id    stock_name         value  price\n",
      "2  138250    엔에스쇼핑  14558.666667  13200\n",
      "4  142280  녹십자엠에스    468.833333  10200\n",
      "9  204210  모두투어리츠   3093.333333   3475\n",
      "\n",
      "\n",
      "       id    stock_name        value  price          name        eps   bps  \\\n",
      "0  204210  모두투어리츠  3093.333333   3475  모두투어리츠  85.166667  5335   \n",
      "\n",
      "         per       pbr  \n",
      "0  40.802348  0.651359  \n"
     ]
    }
   ],
   "source": [
    "# 불린 인덱싱과 결합하여 원하는 데이터 찾기\n",
    "price = df1[df1['price'] < 50000]\n",
    "print(price.head())\n",
    "print('\\n')\n",
    "\n",
    "value = pd.merge(price, df2)\n",
    "print(value)"
   ]
  },
  {
   "cell_type": "markdown",
   "id": "a44ad593",
   "metadata": {},
   "source": [
    "## 데이터프레임 결합\n",
    "판다스 join() 메소드는 merge() 함수를 기반으로 만들어졌기 때문에 기본 작동 방식이 서로 비슷하다.  \n",
    "다만, join() 메소드는 두 데이터프레임의 행 인덱스를 기준으로 결합하는 점에서 merge()함수와 차이가 있다.  \n",
    "하지만 join() 메소드에 대해서도 `on=keys` 옵션을 설정하면 행 인덱스 대신 다른 열을 기준으로 결합하는 것이 가능하다.  \n",
    "- 행 인덱스 기준으로 결합: DataFrame1.join(DataFrame2, how='left')\n"
   ]
  },
  {
   "cell_type": "code",
   "execution_count": 48,
   "id": "c970c341",
   "metadata": {},
   "outputs": [
    {
     "name": "stdout",
     "output_type": "stream",
     "text": [
      "          stock_name          value   price          name           eps  \\\n",
      "id                                                                        \n",
      "128940      한미약품   59385.666667  421000           NaN           NaN   \n",
      "130960        CJ E&M   58540.666667   98900        CJ E&M   6301.333333   \n",
      "138250    엔에스쇼핑   14558.666667   13200           NaN           NaN   \n",
      "139480        이마트  239230.833333  254500        이마트  18268.166667   \n",
      "142280  녹십자엠에스     468.833333   10200           NaN           NaN   \n",
      "145990        삼양사   82750.000000   82000        삼양사   5741.000000   \n",
      "185750        종근당   40293.666667  100500        종근당   3990.333333   \n",
      "192400    쿠쿠홀딩스  179204.666667  177500           NaN           NaN   \n",
      "199800          툴젠   -2514.333333  115400           NaN           NaN   \n",
      "204210  모두투어리츠    3093.333333    3475  모두투어리츠     85.166667   \n",
      "\n",
      "             bps        per       pbr  \n",
      "id                                     \n",
      "128940       NaN        NaN       NaN  \n",
      "130960   54068.0  15.695091  1.829178  \n",
      "138250       NaN        NaN       NaN  \n",
      "139480  295780.0  13.931338  0.860437  \n",
      "142280       NaN        NaN       NaN  \n",
      "145990  108090.0  14.283226  0.758627  \n",
      "185750   40684.0  25.185866  2.470259  \n",
      "192400       NaN        NaN       NaN  \n",
      "199800       NaN        NaN       NaN  \n",
      "204210    5335.0  40.802348  0.651359  \n"
     ]
    }
   ],
   "source": [
    "import pandas as pd\n",
    "\n",
    "# IPython 디스플레이 설정 변경\n",
    "pd.set_option('display.max_columns', 10)\n",
    "pd.set_option('display.max_colwidth', 20)\n",
    "pd.set_option('display.unicode.east_asian_width', True)\n",
    "\n",
    "# 주식 데이터를 가져와서 데이터프레임 만들기\n",
    "df1 = pd.read_excel('./stock price.xlsx', index_col = 'id')\n",
    "df2 = pd.read_excel('./stock valuation.xlsx', index_col='id')\n",
    "\n",
    "# 데이터프레임 결합(join)\n",
    "df3 = df1.join(df2)\n",
    "print(df3)"
   ]
  },
  {
   "cell_type": "code",
   "execution_count": 49,
   "id": "656e19a6",
   "metadata": {},
   "outputs": [
    {
     "name": "stdout",
     "output_type": "stream",
     "text": [
      "          stock_name          value   price          name           eps  \\\n",
      "id                                                                        \n",
      "130960        CJ E&M   58540.666667   98900        CJ E&M   6301.333333   \n",
      "139480        이마트  239230.833333  254500        이마트  18268.166667   \n",
      "145990        삼양사   82750.000000   82000        삼양사   5741.000000   \n",
      "185750        종근당   40293.666667  100500        종근당   3990.333333   \n",
      "204210  모두투어리츠    3093.333333    3475  모두투어리츠     85.166667   \n",
      "\n",
      "           bps        per       pbr  \n",
      "id                                   \n",
      "130960   54068  15.695091  1.829178  \n",
      "139480  295780  13.931338  0.860437  \n",
      "145990  108090  14.283226  0.758627  \n",
      "185750   40684  25.185866  2.470259  \n",
      "204210    5335  40.802348  0.651359  \n"
     ]
    }
   ],
   "source": [
    "# 데이터프레임 결합(join) - inner 결합\n",
    "df4 =df1.join(df2, how='inner')\n",
    "print(df4)"
   ]
  },
  {
   "cell_type": "markdown",
   "id": "93ac375e",
   "metadata": {},
   "source": [
    "# 그룹 연산\n",
    "복잡한 데이터를 어떤 기준에 따라 여러 그룹으로 나눠서 관찰하는 것도 좋은 방법이다.  \n",
    "이처럼 특정 기준을 적용하여 몇 개의 그룹으로 분할하여 처리하는 것을 그룹 연산이라고 부른다.  \n",
    "특히 그룹 연산은 데이터를 집계, 변환, 필터링하는데 효율적이다. 3단계의 과정으로 이루어지고, 데이터를 그룹으로 분할하는 1단계 과정은 판다스 groupby() 메소드를 사용한다.  \n",
    "- 1단계) 분할(split): 데이터를 특정 조건에 의해 분할\n",
    "- 2단계) 적용(apply): 데이터를 집계, 변환, 필터링하는데 필요한 메소드 적용  \n",
    "- 3단계) 결합(combine): 2단계의 처리 결과를 하나로 결합"
   ]
  },
  {
   "cell_type": "markdown",
   "id": "a3d64526",
   "metadata": {},
   "source": [
    "## 그룹 객체 만들기(분할 단계)\n",
    "### 1개 열을 기준으로 그룹화\n",
    "groupby() 메소드는 데이터프레임의 특정 열을 기준으로 데이터프레임을 분할하여 그룹 객체를 반환한다. 기준이 되는 열은 1개도 가능하고, 여러 열을 리스트로 입력할 수도 있다.  \n",
    "- 그룹 연산(분할): DataFrame 객체.groupby(기준이 되는 열)"
   ]
  },
  {
   "cell_type": "code",
   "execution_count": 50,
   "id": "4c506670",
   "metadata": {},
   "outputs": [
    {
     "name": "stdout",
     "output_type": "stream",
     "text": [
      "승객 수 891\n",
      "    age     sex  class     fare  survived\n",
      "0  22.0    male  Third   7.2500         0\n",
      "1  38.0  female  First  71.2833         1\n",
      "2  26.0  female  Third   7.9250         1\n",
      "3  35.0  female  First  53.1000         1\n",
      "4  35.0    male  Third   8.0500         0\n",
      "\n",
      "\n",
      "<pandas.core.groupby.generic.DataFrameGroupBy object at 0x000002A1303EF250>\n"
     ]
    }
   ],
   "source": [
    "import pandas as pd\n",
    "import seaborn as sns\n",
    "\n",
    "# titanic 데이터셋에서 age, sex 등 5개 열을 선택하여 데이터프레임 만들기\n",
    "titanic = sns.load_dataset('titanic')\n",
    "df = titanic.loc[:, ['age' ,'sex', 'class', 'fare', 'survived']]\n",
    "print('승객 수', len(df))\n",
    "print(df.head())\n",
    "print('\\n')\n",
    "\n",
    "# class 열을 기준으로 분할\n",
    "grouped = df.groupby(['class'])\n",
    "print(grouped)"
   ]
  },
  {
   "cell_type": "code",
   "execution_count": 51,
   "id": "0d5ab3c9",
   "metadata": {},
   "outputs": [
    {
     "name": "stdout",
     "output_type": "stream",
     "text": [
      "* key: First\n",
      "* number: 216\n",
      "     age     sex  class     fare  survived\n",
      "1   38.0  female  First  71.2833         1\n",
      "3   35.0  female  First  53.1000         1\n",
      "6   54.0    male  First  51.8625         0\n",
      "11  58.0  female  First  26.5500         1\n",
      "23  28.0    male  First  35.5000         1\n",
      "\n",
      "\n",
      "* key: Second\n",
      "* number: 184\n",
      "     age     sex   class     fare  survived\n",
      "9   14.0  female  Second  30.0708         1\n",
      "15  55.0  female  Second  16.0000         1\n",
      "17   NaN    male  Second  13.0000         1\n",
      "20  35.0    male  Second  26.0000         0\n",
      "21  34.0    male  Second  13.0000         1\n",
      "\n",
      "\n",
      "* key: Third\n",
      "* number: 491\n",
      "    age     sex  class     fare  survived\n",
      "0  22.0    male  Third   7.2500         0\n",
      "2  26.0  female  Third   7.9250         1\n",
      "4  35.0    male  Third   8.0500         0\n",
      "5   NaN    male  Third   8.4583         0\n",
      "7   2.0    male  Third  21.0750         0\n",
      "\n",
      "\n"
     ]
    }
   ],
   "source": [
    "# 그룹 객체를 iteration으로 출력: head() 메소드로 첫 5행만을 출력\n",
    "for key, group in grouped:\n",
    "    print('* key:',key)\n",
    "    print('* number:', len(group))\n",
    "    print(group.head())\n",
    "    print('\\n')"
   ]
  },
  {
   "cell_type": "code",
   "execution_count": 52,
   "id": "bbe27ab1",
   "metadata": {},
   "outputs": [
    {
     "name": "stdout",
     "output_type": "stream",
     "text": [
      "              age       fare  survived\n",
      "class                                 \n",
      "First   38.233441  84.154687  0.629630\n",
      "Second  29.877630  20.662183  0.472826\n",
      "Third   25.140620  13.675550  0.242363\n"
     ]
    }
   ],
   "source": [
    "# 연산 메소드 적용\n",
    "average = grouped.mean()\n",
    "print(average)"
   ]
  },
  {
   "cell_type": "markdown",
   "id": "3f59482a",
   "metadata": {},
   "source": [
    "그룹 객체에 get_group() 메소드를 적용하면 특정 그룹만을 선택할 수 있다. grouped 객체의 3개 그룹 중 키 값이 `Third`인 3등석 승객 데이터를 가진 그룹을 따로 선택하여 추출한다."
   ]
  },
  {
   "cell_type": "code",
   "execution_count": 53,
   "id": "aff3227d",
   "metadata": {},
   "outputs": [
    {
     "name": "stdout",
     "output_type": "stream",
     "text": [
      "    age     sex  class     fare  survived\n",
      "0  22.0    male  Third   7.2500         0\n",
      "2  26.0  female  Third   7.9250         1\n",
      "4  35.0    male  Third   8.0500         0\n",
      "5   NaN    male  Third   8.4583         0\n",
      "7   2.0    male  Third  21.0750         0\n"
     ]
    }
   ],
   "source": [
    "# 개별 그룹 선택하기\n",
    "group3 = grouped.get_group('Third')\n",
    "print(group3.head())"
   ]
  },
  {
   "cell_type": "markdown",
   "id": "a485bddb",
   "metadata": {},
   "source": [
    "### 여러 열을 기준으로 그룹화\n",
    "- 그룹 연산(분할): DataFrame 객체.groupby(기준이 되는 열의 리스트)\n",
    "groupby() 메소드에 두 열('class', 'sex')을 인자로 전달하면 두 열이 갖는 원소 값들로 만들 수 있는 모든 조합으로 키를 생성한다. 그리고 조합된 키를 기준으로 그룹 객체를 만든다.  \n",
    "'class'열에는 'First', 'Second', 'Third'라는 3개의 값이 들어 있고, 'sex'열에는 'male', 'female' 2개의 값이 들어 있다. 가능한 조합은 ('class', 'sex')형식의 투플로 지정되는데, ('First', 'female')을 포함하여 모두 6개의 키가 조합으로 만들어진다. 모두 6개의 그룹으로 상세하게 구분할 수 있다."
   ]
  },
  {
   "cell_type": "code",
   "execution_count": 54,
   "id": "b1c2cdb2",
   "metadata": {},
   "outputs": [
    {
     "name": "stdout",
     "output_type": "stream",
     "text": [
      "* key: ('First', 'female')\n",
      "* number: 94\n",
      "     age     sex  class      fare  survived\n",
      "1   38.0  female  First   71.2833         1\n",
      "3   35.0  female  First   53.1000         1\n",
      "11  58.0  female  First   26.5500         1\n",
      "31   NaN  female  First  146.5208         1\n",
      "52  49.0  female  First   76.7292         1\n",
      "\n",
      "\n",
      "* key: ('First', 'male')\n",
      "* number: 122\n",
      "     age   sex  class      fare  survived\n",
      "6   54.0  male  First   51.8625         0\n",
      "23  28.0  male  First   35.5000         1\n",
      "27  19.0  male  First  263.0000         0\n",
      "30  40.0  male  First   27.7208         0\n",
      "34  28.0  male  First   82.1708         0\n",
      "\n",
      "\n",
      "* key: ('Second', 'female')\n",
      "* number: 76\n",
      "     age     sex   class     fare  survived\n",
      "9   14.0  female  Second  30.0708         1\n",
      "15  55.0  female  Second  16.0000         1\n",
      "41  27.0  female  Second  21.0000         0\n",
      "43   3.0  female  Second  41.5792         1\n",
      "53  29.0  female  Second  26.0000         1\n",
      "\n",
      "\n",
      "* key: ('Second', 'male')\n",
      "* number: 108\n",
      "     age   sex   class  fare  survived\n",
      "17   NaN  male  Second  13.0         1\n",
      "20  35.0  male  Second  26.0         0\n",
      "21  34.0  male  Second  13.0         1\n",
      "33  66.0  male  Second  10.5         0\n",
      "70  32.0  male  Second  10.5         0\n",
      "\n",
      "\n",
      "* key: ('Third', 'female')\n",
      "* number: 144\n",
      "     age     sex  class     fare  survived\n",
      "2   26.0  female  Third   7.9250         1\n",
      "8   27.0  female  Third  11.1333         1\n",
      "10   4.0  female  Third  16.7000         1\n",
      "14  14.0  female  Third   7.8542         0\n",
      "18  31.0  female  Third  18.0000         0\n",
      "\n",
      "\n",
      "* key: ('Third', 'male')\n",
      "* number: 347\n",
      "     age   sex  class     fare  survived\n",
      "0   22.0  male  Third   7.2500         0\n",
      "4   35.0  male  Third   8.0500         0\n",
      "5    NaN  male  Third   8.4583         0\n",
      "7    2.0  male  Third  21.0750         0\n",
      "12  20.0  male  Third   8.0500         0\n",
      "\n",
      "\n"
     ]
    }
   ],
   "source": [
    "# class 열, sex 열 기준으로 분할\n",
    "grouped_two = df.groupby(['class', 'sex'])\n",
    "\n",
    "# grouped_two 그룹 객체를 iteration으로 출력\n",
    "for key, group in grouped_two:\n",
    "    print('* key:', key)\n",
    "    print('* number:', len(group))\n",
    "    print(group.head())\n",
    "    print('\\n')"
   ]
  },
  {
   "cell_type": "code",
   "execution_count": 55,
   "id": "47722f7a",
   "metadata": {},
   "outputs": [
    {
     "name": "stdout",
     "output_type": "stream",
     "text": [
      "                     age        fare  survived\n",
      "class  sex                                    \n",
      "First  female  34.611765  106.125798  0.968085\n",
      "       male    41.281386   67.226127  0.368852\n",
      "Second female  28.722973   21.970121  0.921053\n",
      "       male    30.740707   19.741782  0.157407\n",
      "Third  female  21.750000   16.118810  0.500000\n",
      "       male    26.507589   12.661633  0.135447\n",
      "\n",
      "\n",
      "<class 'pandas.core.frame.DataFrame'>\n"
     ]
    }
   ],
   "source": [
    "average_two = grouped_two.mean()\n",
    "print(average_two)\n",
    "print('\\n')\n",
    "print(type(average_two))"
   ]
  },
  {
   "cell_type": "markdown",
   "id": "a7e5d908",
   "metadata": {},
   "source": [
    "멀티 인덱스를 이용하여 특정 그룹만을 골라서 추출하는 방법이다. get_group() 메소드를 활용하는데, 인자로 전달하는 키는 투플로 입력한다. 예제에서 grouped_two 객체의 6개 그룹 중에엇 키가('Third', 'female')인 그룹을 추출한다. 'class' 열의 데이터가 'Third'이고, 'sex'열의 데이터가 'female'인 행 데이터만 추출되어 데이터프레임으로 반환된다."
   ]
  },
  {
   "cell_type": "code",
   "execution_count": 56,
   "id": "cef605d2",
   "metadata": {},
   "outputs": [
    {
     "name": "stdout",
     "output_type": "stream",
     "text": [
      "     age     sex  class     fare  survived\n",
      "2   26.0  female  Third   7.9250         1\n",
      "8   27.0  female  Third  11.1333         1\n",
      "10   4.0  female  Third  16.7000         1\n",
      "14  14.0  female  Third   7.8542         0\n",
      "18  31.0  female  Third  18.0000         0\n"
     ]
    }
   ],
   "source": [
    "# grouped_two 그룹 객체에서 개별 그룹 선택하기\n",
    "group3f = grouped_two.get_group(('Third', 'female'))\n",
    "print(group3f.head())"
   ]
  },
  {
   "cell_type": "markdown",
   "id": "dc5875e7",
   "metadata": {},
   "source": [
    "## 그룹 연산 데이터 메소드(적용-결합 단계)\n",
    "### 데이터 집계\n",
    "앞에서 분할한 그룹 객체에 대하여 각 그룹별 평균을 계산한 것처럼, 그룹 객체에 다양한 연산을 적용할 수 있다. 이 과정을 데이터 집계(aggregation)라고 부른다.  \n",
    "집계 기능을 내장하고 있는 판다스 기본 함수에는 mean(), max(), min(), sum(), count(), size(), var(), std(), describe(), info(), first(), last() 등이 있다. 다음의 예제에서는 각 그룹의 표준편차를 집계하는 std()메소드를 기준으로 설명한다.  \n",
    "- 표준편차 데이터 집계(내장함수): group 객체.std()"
   ]
  },
  {
   "cell_type": "code",
   "execution_count": 57,
   "id": "3445a9c9",
   "metadata": {},
   "outputs": [
    {
     "name": "stdout",
     "output_type": "stream",
     "text": [
      "              age       fare  survived\n",
      "class                                 \n",
      "First   14.802856  78.380373  0.484026\n",
      "Second  14.001077  13.417399  0.500623\n",
      "Third   12.495398  11.778142  0.428949\n",
      "\n",
      "\n",
      "<class 'pandas.core.frame.DataFrame'>\n",
      "\n",
      "\n",
      "class\n",
      "First     78.380373\n",
      "Second    13.417399\n",
      "Third     11.778142\n",
      "Name: fare, dtype: float64\n",
      "\n",
      "\n",
      "<class 'pandas.core.series.Series'>\n"
     ]
    }
   ],
   "source": [
    "# 라이브러리 불러오기\n",
    "import pandas as pd\n",
    "import seaborn as sns\n",
    "\n",
    "# titanic 데이터셋에서 age, sex 등 5개 열을 선택하여 데이터프레임 만들기\n",
    "titanic = sns.load_dataset('titanic')\n",
    "df = titanic.loc[:, ['age', 'sex', 'class', 'fare', 'survived']]\n",
    "\n",
    "# class 열을 기준으로 분할\n",
    "grouped = df.groupby(['class'])\n",
    "\n",
    "# 각 그룹에 대한 모든 열의 표준편차를 집계하여 데이터프레임으로 반환\n",
    "std_all = grouped.std()\n",
    "print(std_all)\n",
    "print('\\n')\n",
    "print(type(std_all))\n",
    "print('\\n')\n",
    "\n",
    "# 각 그룹에 대한 fare 열의 표준편차를 집계하여 시리즈로 변환\n",
    "std_fare = grouped.fare.std()\n",
    "print(std_fare)\n",
    "print('\\n')\n",
    "print(type(std_fare))"
   ]
  },
  {
   "cell_type": "markdown",
   "id": "2205f810",
   "metadata": {},
   "source": [
    "집계 연산을 처리하는 사용자 정의 함수를 그룹 객체에 적용하려면 agg() 메소드를 이용한다.  \n",
    "다음의 예제에서는 최댓값과 최솟값의 차를 계산하는 함수를 정의하여 사용한다.\n",
    "- agg() 메소드 데이터 집계: group 객체.agg(매핑 함수)"
   ]
  },
  {
   "cell_type": "code",
   "execution_count": 58,
   "id": "ea4e2edd",
   "metadata": {},
   "outputs": [
    {
     "name": "stdout",
     "output_type": "stream",
     "text": [
      "          age      fare  survived\n",
      "class                            \n",
      "First   79.08  512.3292         1\n",
      "Second  69.33   73.5000         1\n",
      "Third   73.58   69.5500         1\n"
     ]
    }
   ],
   "source": [
    "# 그룹 객체에 agg() 메소드 적용 -사용자 정의 함수를 인자로 전달\n",
    "def min_max(x): # 최댓값 - 최솟값\n",
    "    return x.max()-x.min()\n",
    "\n",
    "# 각 그룹의 최댓값과 최솟값의 차이를 계산하여 그룹별로 집계\n",
    "agg_minmax = grouped.agg(min_max)\n",
    "print(agg_minmax.head())"
   ]
  },
  {
   "cell_type": "markdown",
   "id": "9bdf058a",
   "metadata": {},
   "source": [
    "각 그룹별로 연산이 가능한 열에 대한 최댓값과 최솟값의 차를 구하면 데이터 값의 분포 범위를 알 수 있다. 앞에서 표준편차를 구하는 것과 비슷한 해석이 가능하다.  \n",
    "동시에 여러 개의 함수를 사용하여 각 그룹별 데이터에 대한 집계 연산을 처리할 수 있다. 각각의 열에 여러 개의 함수를 일괄 적용할 때는 리스트 형태로 인수를 전달하고, 열마다 다른 종류의  함수를 적용하려면 {열:함수} 형태의 딕셔너리를 전달한다.  \n",
    "- 모든 열에 여러 함수를 매핑: group 객체.agg([함수1, 함수2, 함수3, ...])\n",
    "- 각 열마다 다른 함수를 매핑: group 객체.agg({'열1':함수1, '열2' : 함수2,...})\n",
    "예제에서 agg_all 변수는 grouped 객체의 각 열에 2개의 함수('min', 'max')를 일괄적용하여 그룹별로 집계한 결과이다.  \n",
    "한편 agg_sep 변수는 'fare'열에는 2개 함수('min', 'max')를 적용하고, 'age'열에는 다른 종류의 함수('mean')를 적용하여 집계한 결과이다."
   ]
  },
  {
   "cell_type": "code",
   "execution_count": 59,
   "id": "2261b124",
   "metadata": {},
   "outputs": [
    {
     "name": "stdout",
     "output_type": "stream",
     "text": [
      "         age           sex       fare           survived    \n",
      "         min   max     min   max  min       max      min max\n",
      "class                                                       \n",
      "First   0.92  80.0  female  male  0.0  512.3292        0   1\n",
      "Second  0.67  70.0  female  male  0.0   73.5000        0   1\n",
      "Third   0.42  74.0  female  male  0.0   69.5500        0   1\n",
      "\n",
      "\n",
      "       fare                  age\n",
      "        min       max       mean\n",
      "class                           \n",
      "First   0.0  512.3292  38.233441\n",
      "Second  0.0   73.5000  29.877630\n",
      "Third   0.0   69.5500  25.140620\n"
     ]
    }
   ],
   "source": [
    "# 여러 함수를 각 열에 동일하게 적용하여 집계\n",
    "agg_all = grouped.agg(['min', 'max'])\n",
    "print(agg_all.head())\n",
    "print('\\n')\n",
    "\n",
    "# 각 열마다 다른 함수를 적용하여 집계\n",
    "agg_sep = grouped.agg({'fare':['min', 'max'], 'age':'mean'})\n",
    "print(agg_sep.head())"
   ]
  },
  {
   "cell_type": "markdown",
   "id": "b762311c",
   "metadata": {},
   "source": [
    "앞에서 2개의 함수를 리스트 형태로 입력하면 각 열에 대하여 2개 함수의 연산 결과를 각각 집계하여 다른 열로 구분하여 표시한다.  \n",
    "이때 함수명을 열 이름에 추가하여 2중 열 구조를 만든다."
   ]
  },
  {
   "cell_type": "markdown",
   "id": "aec0b2c0",
   "metadata": {},
   "source": [
    "### 그룹 연산 데이터 변환\n",
    "앞에서 살펴본 agg() 메소드는 각 그룹별 데이터에 연산을 위한 함수를 구분 적용하고, 그룹별로 연산 결과를 집계하여 반환한다. 반면, transform() 메소드는 그룹별로 구분하여 각 원소에 함수를 적용하지만 그룹별 집계 대신 각 원소의 본래 행 인덱스와 열 이름을 기준으로 연산 결과를 반환한다. 즉, 그룹 연산의 결과를 원본 데이터프레임과 같은 형태로 변형하여 정리하는 것이다.  \n",
    "- 데이터 변환 연산: group 객체.transform(매핑 함수)"
   ]
  },
  {
   "cell_type": "code",
   "execution_count": 60,
   "id": "97a7188b",
   "metadata": {},
   "outputs": [
    {
     "name": "stdout",
     "output_type": "stream",
     "text": [
      "class\n",
      "First     38.233441\n",
      "Second    29.877630\n",
      "Third     25.140620\n",
      "Name: age, dtype: float64\n",
      "\n",
      "\n",
      "class\n",
      "First     14.802856\n",
      "Second    14.001077\n",
      "Third     12.495398\n",
      "Name: age, dtype: float64\n",
      "\n",
      "\n",
      "* origin : First\n",
      "1    -0.015770\n",
      "3    -0.218434\n",
      "6     1.065103\n",
      "11    1.335321\n",
      "23   -0.691315\n",
      "Name: age, dtype: float64\n",
      "\n",
      "\n",
      "* origin : Second\n",
      "9    -1.134029\n",
      "15    1.794317\n",
      "17         NaN\n",
      "20    0.365855\n",
      "21    0.294432\n",
      "Name: age, dtype: float64\n",
      "\n",
      "\n",
      "* origin : Third\n",
      "0   -0.251342\n",
      "2    0.068776\n",
      "4    0.789041\n",
      "5         NaN\n",
      "7   -1.851931\n",
      "Name: age, dtype: float64\n",
      "\n",
      "\n"
     ]
    }
   ],
   "source": [
    "# 그룹별 age 열의 평균 집계 연산\n",
    "age_mean = grouped.age.mean()\n",
    "print(age_mean)\n",
    "print('\\n')\n",
    "\n",
    "# 그룹별 age 열의 표준편차 집계 연산\n",
    "age_std =grouped.age.std()\n",
    "print(age_std)\n",
    "print('\\n')\n",
    "\n",
    "# 그룹 객체의 age 열을 iteration으로 z-score를 계산하여 출력\n",
    "for key, group in grouped.age:\n",
    "    group_zscore = (group - age_mean.loc[key])/age_std.loc[key]\n",
    "    print('* origin :', key)\n",
    "    print(group_zscore.head())\n",
    "    print('\\n')"
   ]
  },
  {
   "cell_type": "markdown",
   "id": "44e53b37",
   "metadata": {},
   "source": [
    "이번에는 transform() 메소드를 사용하여 `age` 열의 데이터를 z-score로 직접 변환한다.  \n",
    "z-score를 계산하는 사용자 함수를 정의하고, transform() 메소드 인자로 전달한다.  \n",
    "각 그룹별 평균과 표준편차를 이용하여 각 원소의 z-score를 계산하지만, 반환되는 객체는 그룹별로 나누지 않고 원래 행 인덱스 순서로 정렬된다."
   ]
  },
  {
   "cell_type": "code",
   "execution_count": 61,
   "id": "4dfd60aa",
   "metadata": {},
   "outputs": [
    {
     "name": "stdout",
     "output_type": "stream",
     "text": [
      "1   -0.015770\n",
      "9   -1.134029\n",
      "0   -0.251342\n",
      "Name: age, dtype: float64\n",
      "\n",
      "\n",
      "891\n",
      "\n",
      "\n",
      "0   -0.251342\n",
      "1   -0.015770\n",
      "2    0.068776\n",
      "3   -0.218434\n",
      "4    0.789041\n",
      "5         NaN\n",
      "6    1.065103\n",
      "7   -1.851931\n",
      "8    0.148805\n",
      "9   -1.134029\n",
      "Name: age, dtype: float64\n",
      "\n",
      "\n",
      "<class 'pandas.core.series.Series'>\n"
     ]
    }
   ],
   "source": [
    "def z_score(x):\n",
    "    return (x-x.mean())/x.std()\n",
    "\n",
    "# transform() 메소드를 이용하여 age 열의 데이터를 z-score로 변환\n",
    "age_zscore = grouped.age.transform(z_score)\n",
    "print(age_zscore.loc[[1, 9, 0]]) # 1, 2, 3 그룹의 첫 데이터 확인 ( 변환 결과 )\n",
    "print('\\n')\n",
    "print(len(age_zscore)) # transform 메소드 변환 값의 길이\n",
    "print('\\n')\n",
    "print(age_zscore.loc[0:9]) # transform 메소드 변환 값 출력 ( 첫 10개 )\n",
    "print('\\n')\n",
    "print(type(age_zscore)) # transform 메소드 변환 객체의 자료형"
   ]
  },
  {
   "cell_type": "markdown",
   "id": "c15a95da",
   "metadata": {},
   "source": [
    "### 그룹 객체 필터링\n",
    "그룹 객체에 filter() 메소드를 적용할 때 조건식을 가진 함수를 전달하면 조건이 참인 그룹만을 남긴다.  \n",
    "- 그룹 객체 필터링: group 객체.filter(조건식 함수)"
   ]
  },
  {
   "cell_type": "code",
   "execution_count": 62,
   "id": "f82e3728",
   "metadata": {},
   "outputs": [
    {
     "name": "stdout",
     "output_type": "stream",
     "text": [
      "    age     sex  class     fare  survived\n",
      "0  22.0    male  Third   7.2500         0\n",
      "1  38.0  female  First  71.2833         1\n",
      "2  26.0  female  Third   7.9250         1\n",
      "3  35.0  female  First  53.1000         1\n",
      "4  35.0    male  Third   8.0500         0\n",
      "\n",
      "\n",
      "<class 'pandas.core.frame.DataFrame'>\n"
     ]
    }
   ],
   "source": [
    "# 데이터 개수가 200개 이상인 그룹만을 필터링하여 데이터프레임으로 반환\n",
    "grouped_filter = grouped.filter(lambda x: len(x) >= 200)\n",
    "print(grouped_filter.head())\n",
    "print('\\n')\n",
    "print(type(grouped_filter))"
   ]
  },
  {
   "cell_type": "markdown",
   "id": "6e4474cf",
   "metadata": {},
   "source": [
    "### 그룹 객체에 함수 매핑\n",
    "apply() 메소드는 판다스 객체의 개별 원소를 특정 함수에 일대일로 매핑한다. 사용자가 원하는 대부분의 연산을 그룹 객체에도 적용할 수 있다.\n",
    "- 범용 메소드: group 객체.apply(매핑 함수)    \n",
    "`class` 열을 기준으로 구분한 3개의 그룹에 요약 통계 정보를 나타내는 describe() 메소드를 적용한다. 각 그룹별 데이터의 개수,평균, 표준편차, 최솟값, 최댓값 등을 확인할 수 있다."
   ]
  },
  {
   "cell_type": "code",
   "execution_count": 63,
   "id": "7486d879",
   "metadata": {},
   "outputs": [
    {
     "name": "stdout",
     "output_type": "stream",
     "text": [
      "                     age        fare    survived\n",
      "class                                           \n",
      "First  count  186.000000  216.000000  216.000000\n",
      "       mean    38.233441   84.154687    0.629630\n",
      "       std     14.802856   78.380373    0.484026\n",
      "       min      0.920000    0.000000    0.000000\n",
      "       25%     27.000000   30.923950    0.000000\n",
      "       50%     37.000000   60.287500    1.000000\n",
      "       75%     49.000000   93.500000    1.000000\n",
      "       max     80.000000  512.329200    1.000000\n",
      "Second count  173.000000  184.000000  184.000000\n",
      "       mean    29.877630   20.662183    0.472826\n",
      "       std     14.001077   13.417399    0.500623\n",
      "       min      0.670000    0.000000    0.000000\n",
      "       25%     23.000000   13.000000    0.000000\n",
      "       50%     29.000000   14.250000    0.000000\n",
      "       75%     36.000000   26.000000    1.000000\n",
      "       max     70.000000   73.500000    1.000000\n",
      "Third  count  355.000000  491.000000  491.000000\n",
      "       mean    25.140620   13.675550    0.242363\n",
      "       std     12.495398   11.778142    0.428949\n",
      "       min      0.420000    0.000000    0.000000\n",
      "       25%     18.000000    7.750000    0.000000\n",
      "       50%     24.000000    8.050000    0.000000\n",
      "       75%     32.000000   15.500000    0.000000\n",
      "       max     74.000000   69.550000    1.000000\n"
     ]
    }
   ],
   "source": [
    "# 집계:각 그룹별 요약 통계 정보 집계\n",
    "agg_grouped = grouped.apply(lambda x: x.describe())\n",
    "print(agg_grouped)"
   ]
  },
  {
   "cell_type": "code",
   "execution_count": 64,
   "id": "3bdf03c8",
   "metadata": {},
   "outputs": [
    {
     "name": "stdout",
     "output_type": "stream",
     "text": [
      "0   -0.251342\n",
      "1   -0.015770\n",
      "2    0.068776\n",
      "3   -0.218434\n",
      "4    0.789041\n",
      "Name: age, dtype: float64\n"
     ]
    }
   ],
   "source": [
    "# z-socre를 계산하는 사용자 함수 정의\n",
    "def z_score(x):\n",
    "    return (x-x.mean())/x.std()\n",
    "\n",
    "age_zscore = grouped.age.apply(z_score) # 기본값 axis= 0\n",
    "print(age_zscore.head())"
   ]
  },
  {
   "cell_type": "code",
   "execution_count": 65,
   "id": "914fd558",
   "metadata": {},
   "outputs": [
    {
     "name": "stdout",
     "output_type": "stream",
     "text": [
      "class\n",
      "First     False\n",
      "Second     True\n",
      "Third      True\n",
      "dtype: bool\n",
      "\n",
      "\n",
      "     age     sex   class     fare  survived\n",
      "9   14.0  female  Second  30.0708         1\n",
      "15  55.0  female  Second  16.0000         1\n",
      "17   NaN    male  Second  13.0000         1\n",
      "20  35.0    male  Second  26.0000         0\n",
      "21  34.0    male  Second  13.0000         1\n",
      "\n",
      "\n",
      "    age     sex  class     fare  survived\n",
      "0  22.0    male  Third   7.2500         0\n",
      "2  26.0  female  Third   7.9250         1\n",
      "4  35.0    male  Third   8.0500         0\n",
      "5   NaN    male  Third   8.4583         0\n",
      "7   2.0    male  Third  21.0750         0\n",
      "\n",
      "\n"
     ]
    }
   ],
   "source": [
    "# 필터링 : age 열의 데이터 평균이 30보다 작은 그룹만을 필터링하여 출력\n",
    "age_filter = grouped.apply(lambda x: x.age.mean()<30)\n",
    "print(age_filter)\n",
    "print('\\n')\n",
    "for x in age_filter.index:\n",
    "    if age_filter[x] == True:\n",
    "        age_filter_df = grouped.get_group(x)\n",
    "        print(age_filter_df.head())\n",
    "        print('\\n')"
   ]
  },
  {
   "cell_type": "markdown",
   "id": "a1304c95",
   "metadata": {},
   "source": [
    "# 멀티 인덱스\n",
    "groupby() 메소드에 여러 열을 리스트 형태로 전달하면 각 열들이 다중으로 행 인덱스를 구성하는 것을 보았다.  \n",
    "이처럼 판다스는 행 인덱스를 여러 레벨로 구현할 수 있도록 멀티 인덱스(Multiindex) 클래스를 지원한다."
   ]
  },
  {
   "cell_type": "code",
   "execution_count": 66,
   "id": "051fb0ab",
   "metadata": {},
   "outputs": [
    {
     "name": "stdout",
     "output_type": "stream",
     "text": [
      "                     age        fare  survived\n",
      "class  sex                                    \n",
      "First  female  34.611765  106.125798  0.968085\n",
      "       male    41.281386   67.226127  0.368852\n",
      "Second female  28.722973   21.970121  0.921053\n",
      "       male    30.740707   19.741782  0.157407\n",
      "Third  female  21.750000   16.118810  0.500000\n",
      "       male    26.507589   12.661633  0.135447\n",
      "\n",
      "\n",
      "<class 'pandas.core.frame.DataFrame'>\n"
     ]
    }
   ],
   "source": [
    "# class 열, sex 열을 기준으로 분할\n",
    "grouped = df.groupby(['class', 'sex'])\n",
    "\n",
    "# 그룹 객체에 연산 메소드를 적용\n",
    "gdf = grouped.mean()\n",
    "print(gdf)\n",
    "print('\\n')\n",
    "print(type(gdf))"
   ]
  },
  {
   "cell_type": "code",
   "execution_count": 67,
   "id": "f9865473",
   "metadata": {},
   "outputs": [
    {
     "name": "stdout",
     "output_type": "stream",
     "text": [
      "              age        fare  survived\n",
      "sex                                    \n",
      "female  34.611765  106.125798  0.968085\n",
      "male    41.281386   67.226127  0.368852\n"
     ]
    }
   ],
   "source": [
    "# class 값이 First인 행을 선택하여 출력\n",
    "print(gdf.loc['First'])"
   ]
  },
  {
   "cell_type": "code",
   "execution_count": 70,
   "id": "e38cb971",
   "metadata": {},
   "outputs": [
    {
     "name": "stdout",
     "output_type": "stream",
     "text": [
      "age          34.611765\n",
      "fare        106.125798\n",
      "survived      0.968085\n",
      "Name: (First, female), dtype: float64\n"
     ]
    }
   ],
   "source": [
    "# class  값이 First이고, sex 값이 female인 행을 선택하여 출력\n",
    "print(gdf.loc[('First', 'female')])"
   ]
  },
  {
   "cell_type": "markdown",
   "id": "4d0ac550",
   "metadata": {},
   "source": [
    "이번에는 loc 인덱서 대신 xs 인덱서를 사용한다. 'sex' 인덱스에서 'male' 값을 갖는 행을 추출한다.  \n",
    "남성 승객에 한정하여 객실 등급별로 그룹을 만들어서 분석할 수 잇다. 나이가 많을 수록 상대적으로 비싼 요금을 지불하고 높은 객실 등급을 이용하려는 경향을 읽을 수 있다."
   ]
  },
  {
   "cell_type": "code",
   "execution_count": 71,
   "id": "69715e4d",
   "metadata": {},
   "outputs": [
    {
     "name": "stdout",
     "output_type": "stream",
     "text": [
      "              age       fare  survived\n",
      "class                                 \n",
      "First   41.281386  67.226127  0.368852\n",
      "Second  30.740707  19.741782  0.157407\n",
      "Third   26.507589  12.661633  0.135447\n"
     ]
    }
   ],
   "source": [
    "# sex 값이 male인 행을 선택하여 출력\n",
    "print(gdf.xs('male', level='sex'))"
   ]
  },
  {
   "cell_type": "markdown",
   "id": "7bf60a7a",
   "metadata": {},
   "source": [
    "# 피벗\n",
    "판다스 pivot_table() 함수는 엑셀(Excel) 에서 사용하는 피벗테이블과 비슷한 기능을 처리한다.  \n",
    "피벗 테이블을 구성하는 4가지 요소(행 인덱스, 열 인덱스, 데이터 값, 데이터 집계함수)에 적용할 데이터프레임의 열을 각각 지정하여 함수의 인자로 전달한다."
   ]
  },
  {
   "cell_type": "code",
   "execution_count": 74,
   "id": "0bea0b72",
   "metadata": {},
   "outputs": [
    {
     "name": "stdout",
     "output_type": "stream",
     "text": [
      "    age     sex  class     fare  survived\n",
      "0  22.0    male  Third   7.2500         0\n",
      "1  38.0  female  First  71.2833         1\n",
      "2  26.0  female  Third   7.9250         1\n",
      "3  35.0  female  First  53.1000         1\n",
      "4  35.0    male  Third   8.0500         0\n",
      "\n",
      "\n",
      "sex        female       male\n",
      "class                       \n",
      "First   34.611765  41.281386\n",
      "Second  28.722973  30.740707\n",
      "Third   21.750000  26.507589\n"
     ]
    }
   ],
   "source": [
    "import pandas as pd\n",
    "import seaborn as sns\n",
    "\n",
    "# IPython 디스플레이 설정 변경\n",
    "pd.set_option('display.max_columns', 10) # 출력할 최대 열의 개수\n",
    "pd.set_option('display.max_colwidth', 20) # 출력할 열의 너비\n",
    "\n",
    "# titanic 데이터셋에서 age, sex 등 5개 열을 선택하여 데이터프레임 만들기\n",
    "titanic = sns.load_dataset('titanic')\n",
    "df = titanic.loc[:, ['age', 'sex', 'class', 'fare', 'survived']]\n",
    "print(df.head())\n",
    "print('\\n')\n",
    "\n",
    "# 행, 열, 값, 집계에 사용할 열을 1개씩 지정 - 평균 집계\n",
    "pdf1 = pd.pivot_table(df,\n",
    "                     index= 'class',\n",
    "                     columns = 'sex',\n",
    "                     values = 'age',\n",
    "                     aggfunc = 'mean')\n",
    "print(pdf1.head())"
   ]
  },
  {
   "cell_type": "markdown",
   "id": "4cd386e1",
   "metadata": {},
   "source": [
    "행 인덱스로는 `class` 열의 3가지 값이 표시되고, 열 위치에는 `sex` 열의 2가지 값이 사용된다. `age`열의 승객 나이 데이터의 평균값을 계산하여 출력한다.  "
   ]
  },
  {
   "cell_type": "code",
   "execution_count": 75,
   "id": "5777d5a7",
   "metadata": {},
   "outputs": [
    {
     "name": "stdout",
     "output_type": "stream",
     "text": [
      "            mean              sum     \n",
      "sex       female      male female male\n",
      "class                                 \n",
      "First   0.968085  0.368852     91   45\n",
      "Second  0.921053  0.157407     70   17\n",
      "Third   0.500000  0.135447     72   47\n"
     ]
    }
   ],
   "source": [
    "# 값에 적용하는 집계 함수 2개 이상 지정 가능 - 생존율, 생존자 수 집계\n",
    "pdf2 = pd.pivot_table(df,\n",
    "                     index= 'class',\n",
    "                     columns = 'sex',\n",
    "                     values = 'survived',\n",
    "                     aggfunc = ['mean', 'sum'])\n",
    "print(pdf2.head())"
   ]
  },
  {
   "cell_type": "markdown",
   "id": "23ecda64",
   "metadata": {},
   "source": [
    "pivot_table() 함수에 전달할 인자(행 인덱스, 열 위치, 데이터 값, 집계 함수)에 각각 2개 이상의 열을 입력할 수 있다. 예제에서는 행 인덱스와 데이터 값에 해당하는 열을 각각 2개 지정하고, 열 위치에 해당하는 열은 1개를 지정한다. 또한 데이터 집계 함수를 2개 지정한다."
   ]
  },
  {
   "cell_type": "code",
   "execution_count": 76,
   "id": "1755b345",
   "metadata": {},
   "outputs": [
    {
     "name": "stdout",
     "output_type": "stream",
     "text": [
      "                    mean                                      max        \\\n",
      "                     age                   fare               age         \n",
      "survived               0          1           0           1     0     1   \n",
      "class  sex                                                                \n",
      "First  female  25.666667  34.939024  110.604167  105.978159  50.0  63.0   \n",
      "       male    44.581967  36.248000   62.894910   74.637320  71.0  80.0   \n",
      "Second female  36.000000  28.080882   18.250000   22.288989  57.0  55.0   \n",
      "       male    33.369048  16.022000   19.488965   21.095100  70.0  62.0   \n",
      "Third  female  23.818182  19.329787   19.773093   12.464526  48.0  63.0   \n",
      "\n",
      "                                 \n",
      "                 fare            \n",
      "survived            0         1  \n",
      "class  sex                       \n",
      "First  female  151.55  512.3292  \n",
      "       male    263.00  512.3292  \n",
      "Second female   26.00   65.0000  \n",
      "       male     73.50   39.0000  \n",
      "Third  female   69.55   31.3875  \n",
      "\n",
      "\n",
      "MultiIndex([( 'First', 'female'),\n",
      "            ( 'First',   'male'),\n",
      "            ('Second', 'female'),\n",
      "            ('Second',   'male'),\n",
      "            ( 'Third', 'female'),\n",
      "            ( 'Third',   'male')],\n",
      "           names=['class', 'sex'])\n",
      "MultiIndex([('mean',  'age', 0),\n",
      "            ('mean',  'age', 1),\n",
      "            ('mean', 'fare', 0),\n",
      "            ('mean', 'fare', 1),\n",
      "            ( 'max',  'age', 0),\n",
      "            ( 'max',  'age', 1),\n",
      "            ( 'max', 'fare', 0),\n",
      "            ( 'max', 'fare', 1)],\n",
      "           names=[None, None, 'survived'])\n"
     ]
    }
   ],
   "source": [
    "# 행, 열, 값에 사용할 열을 2개 이상 지정 가능 - 평균 나이, 최대 요금 집계\n",
    "pdf3 = pd.pivot_table(df,\n",
    "                     index = ['class', 'sex'], # 행 위치에 들어갈 열\n",
    "                     columns = 'survived', # 열 위치에 들어갈 열 \n",
    "                    values = ['age', 'fare'], # 데이터로 사용할 열\n",
    "                     aggfunc = ['mean', 'max']) # 데이터 집계 함수\n",
    "# IPython Console 디스플레이 옵션 설정\n",
    "pd.set_option('display.max_columns', 10)\n",
    "print(pdf3.head())\n",
    "print('\\n')\n",
    "\n",
    "# 행, 열 구조 살펴보기\n",
    "print(pdf3.index)\n",
    "print(pdf3.columns)"
   ]
  },
  {
   "cell_type": "markdown",
   "id": "d489a236",
   "metadata": {},
   "source": [
    "데이터프레임 pdf3의 행을 선택하기 위해 xs 인덱서를 사용하는 방법을 살펴보자. xs 인덱서는 기본값으로 행 인덱스에 접근하고, 축 값은 axis=0으로 자동 설정된다. 먼저 행 인덱스가 `First`인 1등석 승객의 데이터를 추출해 보자."
   ]
  },
  {
   "cell_type": "code",
   "execution_count": 77,
   "id": "5876cc85",
   "metadata": {},
   "outputs": [
    {
     "name": "stdout",
     "output_type": "stream",
     "text": [
      "               mean                                      max                \\\n",
      "                age                   fare               age          fare   \n",
      "survived          0          1           0           1     0     1       0   \n",
      "sex                                                                          \n",
      "female    25.666667  34.939024  110.604167  105.978159  50.0  63.0  151.55   \n",
      "male      44.581967  36.248000   62.894910   74.637320  71.0  80.0  263.00   \n",
      "\n",
      "                    \n",
      "                    \n",
      "survived         1  \n",
      "sex                 \n",
      "female    512.3292  \n",
      "male      512.3292  \n"
     ]
    }
   ],
   "source": [
    "# xs 인덱서 사용 -행 선택(default: axis = 0)\n",
    "print(pdf3.xs('First')) # 행 인덱스가 First인 행을 선택"
   ]
  },
  {
   "cell_type": "code",
   "execution_count": 78,
   "id": "82632491",
   "metadata": {},
   "outputs": [
    {
     "name": "stdout",
     "output_type": "stream",
     "text": [
      "            survived\n",
      "mean  age   0            25.666667\n",
      "            1            34.939024\n",
      "      fare  0           110.604167\n",
      "            1           105.978159\n",
      "max   age   0            50.000000\n",
      "            1            63.000000\n",
      "      fare  0           151.550000\n",
      "            1           512.329200\n",
      "Name: (First, female), dtype: float64\n"
     ]
    }
   ],
   "source": [
    "print(pdf3.xs(('First', 'female'))) # 행 인덱스가 ('First', 'female')인 행을 선택"
   ]
  },
  {
   "cell_type": "code",
   "execution_count": 79,
   "id": "ac64320e",
   "metadata": {},
   "outputs": [
    {
     "name": "stdout",
     "output_type": "stream",
     "text": [
      "               mean                                    max                \\\n",
      "                age                  fare              age          fare   \n",
      "survived          0          1          0          1     0     1       0   \n",
      "class                                                                      \n",
      "First     44.581967  36.248000  62.894910  74.637320  71.0  80.0  263.00   \n",
      "Second    33.369048  16.022000  19.488965  21.095100  70.0  62.0   73.50   \n",
      "Third     27.255814  22.274211  12.204469  15.579696  74.0  45.0   69.55   \n",
      "\n",
      "                    \n",
      "                    \n",
      "survived         1  \n",
      "class               \n",
      "First     512.3292  \n",
      "Second     39.0000  \n",
      "Third      56.4958  \n"
     ]
    }
   ],
   "source": [
    "print(pdf3.xs('male', level='sex')) # 행 인덱스의 sex 레벨이 male인 행을 선택"
   ]
  },
  {
   "cell_type": "code",
   "execution_count": 80,
   "id": "a8fc4f08",
   "metadata": {},
   "outputs": [
    {
     "name": "stdout",
     "output_type": "stream",
     "text": [
      "                  mean                               max                  \n",
      "                   age               fare            age        fare      \n",
      "survived             0       1          0        1     0     1     0     1\n",
      "class  sex                                                                \n",
      "Second male  33.369048  16.022  19.488965  21.0951  70.0  62.0  73.5  39.0\n"
     ]
    }
   ],
   "source": [
    "print(pdf3.xs(('Second', 'male'), level=[0, 'sex'])) # Second, male인 행을 선택"
   ]
  },
  {
   "cell_type": "code",
   "execution_count": 81,
   "id": "b86d9d83",
   "metadata": {},
   "outputs": [
    {
     "name": "stdout",
     "output_type": "stream",
     "text": [
      "                     age                   fare            \n",
      "survived               0          1           0           1\n",
      "class  sex                                                 \n",
      "First  female  25.666667  34.939024  110.604167  105.978159\n",
      "       male    44.581967  36.248000   62.894910   74.637320\n",
      "Second female  36.000000  28.080882   18.250000   22.288989\n",
      "       male    33.369048  16.022000   19.488965   21.095100\n",
      "Third  female  23.818182  19.329787   19.773093   12.464526\n",
      "       male    27.255814  22.274211   12.204469   15.579696\n"
     ]
    }
   ],
   "source": [
    "# xs 인덱서 사용 - 열 선택(axis=1 설정)\n",
    "print(pdf3.xs('mean', axis=1)) # 열 인덱스가 mean인 데이터를 선택"
   ]
  },
  {
   "cell_type": "code",
   "execution_count": 82,
   "id": "04e7beca",
   "metadata": {},
   "outputs": [
    {
     "name": "stdout",
     "output_type": "stream",
     "text": [
      "survived               0          1\n",
      "class  sex                         \n",
      "First  female  25.666667  34.939024\n",
      "       male    44.581967  36.248000\n",
      "Second female  36.000000  28.080882\n",
      "       male    33.369048  16.022000\n",
      "Third  female  23.818182  19.329787\n",
      "       male    27.255814  22.274211\n"
     ]
    }
   ],
   "source": [
    "print(pdf3.xs(('mean', 'age'), axis=1)) # 열 인덱스가 ('mean', 'age') 인 데이터 선택"
   ]
  },
  {
   "cell_type": "code",
   "execution_count": 83,
   "id": "242d3c88",
   "metadata": {},
   "outputs": [
    {
     "name": "stdout",
     "output_type": "stream",
     "text": [
      "                    mean               max          \n",
      "                     age        fare   age      fare\n",
      "class  sex                                          \n",
      "First  female  34.939024  105.978159  63.0  512.3292\n",
      "       male    36.248000   74.637320  80.0  512.3292\n",
      "Second female  28.080882   22.288989  55.0   65.0000\n",
      "       male    16.022000   21.095100  62.0   39.0000\n",
      "Third  female  19.329787   12.464526  63.0   31.3875\n",
      "       male    22.274211   15.579696  45.0   56.4958\n"
     ]
    }
   ],
   "source": [
    "print(pdf3.xs(1, level='survived', axis=1)) # survived 레벨이 1인 데이터 선택"
   ]
  },
  {
   "cell_type": "code",
   "execution_count": 86,
   "id": "05b02b64",
   "metadata": {},
   "outputs": [
    {
     "name": "stdout",
     "output_type": "stream",
     "text": [
      "                  max\n",
      "                 fare\n",
      "survived            0\n",
      "class  sex           \n",
      "First  female  151.55\n",
      "       male    263.00\n",
      "Second female   26.00\n",
      "       male     73.50\n",
      "Third  female   69.55\n",
      "       male     69.55\n"
     ]
    }
   ],
   "source": [
    "print(pdf3.xs(('max', 'fare', 0),\n",
    "              level = [0, 1, 2], axis=1)) # max, fare, survived = 0인 데이터 선택"
   ]
  },
  {
   "cell_type": "code",
   "execution_count": null,
   "id": "83129d07",
   "metadata": {},
   "outputs": [],
   "source": []
  }
 ],
 "metadata": {
  "kernelspec": {
   "display_name": "Python 3",
   "language": "python",
   "name": "python3"
  },
  "language_info": {
   "codemirror_mode": {
    "name": "ipython",
    "version": 3
   },
   "file_extension": ".py",
   "mimetype": "text/x-python",
   "name": "python",
   "nbconvert_exporter": "python",
   "pygments_lexer": "ipython3",
   "version": "3.8.8"
  }
 },
 "nbformat": 4,
 "nbformat_minor": 5
}
